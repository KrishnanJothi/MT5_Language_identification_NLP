{
  "nbformat": 4,
  "nbformat_minor": 0,
  "metadata": {
    "colab": {
      "name": "MT5_finetuning_21_10.ipynb",
      "provenance": [],
      "collapsed_sections": []
    },
    "kernelspec": {
      "name": "python3",
      "display_name": "Python 3"
    },
    "language_info": {
      "name": "python"
    },
    "widgets": {
      "application/vnd.jupyter.widget-state+json": {
        "762491f3ae024b97ad37d5088f99c7bd": {
          "model_module": "@jupyter-widgets/controls",
          "model_name": "HBoxModel",
          "model_module_version": "1.5.0",
          "state": {
            "_view_name": "HBoxView",
            "_dom_classes": [],
            "_model_name": "HBoxModel",
            "_view_module": "@jupyter-widgets/controls",
            "_model_module_version": "1.5.0",
            "_view_count": null,
            "_view_module_version": "1.5.0",
            "box_style": "",
            "layout": "IPY_MODEL_d5dccbce650d46b28a83c96f427856b1",
            "_model_module": "@jupyter-widgets/controls",
            "children": [
              "IPY_MODEL_1f9e16fd1e9b4a2bb665e3388ca9db75",
              "IPY_MODEL_67fe0f0748b34a8da930b755a0e09d7c",
              "IPY_MODEL_f82ab413a56a4c838f46da1535073a09"
            ]
          }
        },
        "d5dccbce650d46b28a83c96f427856b1": {
          "model_module": "@jupyter-widgets/base",
          "model_name": "LayoutModel",
          "model_module_version": "1.2.0",
          "state": {
            "_view_name": "LayoutView",
            "grid_template_rows": null,
            "right": null,
            "justify_content": null,
            "_view_module": "@jupyter-widgets/base",
            "overflow": null,
            "_model_module_version": "1.2.0",
            "_view_count": null,
            "flex_flow": null,
            "width": null,
            "min_width": null,
            "border": null,
            "align_items": null,
            "bottom": null,
            "_model_module": "@jupyter-widgets/base",
            "top": null,
            "grid_column": null,
            "overflow_y": null,
            "overflow_x": null,
            "grid_auto_flow": null,
            "grid_area": null,
            "grid_template_columns": null,
            "flex": null,
            "_model_name": "LayoutModel",
            "justify_items": null,
            "grid_row": null,
            "max_height": null,
            "align_content": null,
            "visibility": null,
            "align_self": null,
            "height": null,
            "min_height": null,
            "padding": null,
            "grid_auto_rows": null,
            "grid_gap": null,
            "max_width": null,
            "order": null,
            "_view_module_version": "1.2.0",
            "grid_template_areas": null,
            "object_position": null,
            "object_fit": null,
            "grid_auto_columns": null,
            "margin": null,
            "display": null,
            "left": null
          }
        },
        "1f9e16fd1e9b4a2bb665e3388ca9db75": {
          "model_module": "@jupyter-widgets/controls",
          "model_name": "HTMLModel",
          "model_module_version": "1.5.0",
          "state": {
            "_view_name": "HTMLView",
            "style": "IPY_MODEL_0585dbc2f7f247cdb0b57392a6c8615b",
            "_dom_classes": [],
            "description": "",
            "_model_name": "HTMLModel",
            "placeholder": "​",
            "_view_module": "@jupyter-widgets/controls",
            "_model_module_version": "1.5.0",
            "value": "Downloading: 100%",
            "_view_count": null,
            "_view_module_version": "1.5.0",
            "description_tooltip": null,
            "_model_module": "@jupyter-widgets/controls",
            "layout": "IPY_MODEL_3f6fa714ffe94dbcbb9b3dd960373649"
          }
        },
        "67fe0f0748b34a8da930b755a0e09d7c": {
          "model_module": "@jupyter-widgets/controls",
          "model_name": "FloatProgressModel",
          "model_module_version": "1.5.0",
          "state": {
            "_view_name": "ProgressView",
            "style": "IPY_MODEL_0c2dfe17ec4443108f45f132e56d2ec1",
            "_dom_classes": [],
            "description": "",
            "_model_name": "FloatProgressModel",
            "bar_style": "success",
            "max": 82,
            "_view_module": "@jupyter-widgets/controls",
            "_model_module_version": "1.5.0",
            "value": 82,
            "_view_count": null,
            "_view_module_version": "1.5.0",
            "orientation": "horizontal",
            "min": 0,
            "description_tooltip": null,
            "_model_module": "@jupyter-widgets/controls",
            "layout": "IPY_MODEL_f7150fed353c4f7fba5699a108dc9bd5"
          }
        },
        "f82ab413a56a4c838f46da1535073a09": {
          "model_module": "@jupyter-widgets/controls",
          "model_name": "HTMLModel",
          "model_module_version": "1.5.0",
          "state": {
            "_view_name": "HTMLView",
            "style": "IPY_MODEL_57a16792546d48389c9cd91c5029e075",
            "_dom_classes": [],
            "description": "",
            "_model_name": "HTMLModel",
            "placeholder": "​",
            "_view_module": "@jupyter-widgets/controls",
            "_model_module_version": "1.5.0",
            "value": " 82.0/82.0 [00:00&lt;00:00, 1.88kB/s]",
            "_view_count": null,
            "_view_module_version": "1.5.0",
            "description_tooltip": null,
            "_model_module": "@jupyter-widgets/controls",
            "layout": "IPY_MODEL_f745527c724943e18746e6077f457278"
          }
        },
        "0585dbc2f7f247cdb0b57392a6c8615b": {
          "model_module": "@jupyter-widgets/controls",
          "model_name": "DescriptionStyleModel",
          "model_module_version": "1.5.0",
          "state": {
            "_view_name": "StyleView",
            "_model_name": "DescriptionStyleModel",
            "description_width": "",
            "_view_module": "@jupyter-widgets/base",
            "_model_module_version": "1.5.0",
            "_view_count": null,
            "_view_module_version": "1.2.0",
            "_model_module": "@jupyter-widgets/controls"
          }
        },
        "3f6fa714ffe94dbcbb9b3dd960373649": {
          "model_module": "@jupyter-widgets/base",
          "model_name": "LayoutModel",
          "model_module_version": "1.2.0",
          "state": {
            "_view_name": "LayoutView",
            "grid_template_rows": null,
            "right": null,
            "justify_content": null,
            "_view_module": "@jupyter-widgets/base",
            "overflow": null,
            "_model_module_version": "1.2.0",
            "_view_count": null,
            "flex_flow": null,
            "width": null,
            "min_width": null,
            "border": null,
            "align_items": null,
            "bottom": null,
            "_model_module": "@jupyter-widgets/base",
            "top": null,
            "grid_column": null,
            "overflow_y": null,
            "overflow_x": null,
            "grid_auto_flow": null,
            "grid_area": null,
            "grid_template_columns": null,
            "flex": null,
            "_model_name": "LayoutModel",
            "justify_items": null,
            "grid_row": null,
            "max_height": null,
            "align_content": null,
            "visibility": null,
            "align_self": null,
            "height": null,
            "min_height": null,
            "padding": null,
            "grid_auto_rows": null,
            "grid_gap": null,
            "max_width": null,
            "order": null,
            "_view_module_version": "1.2.0",
            "grid_template_areas": null,
            "object_position": null,
            "object_fit": null,
            "grid_auto_columns": null,
            "margin": null,
            "display": null,
            "left": null
          }
        },
        "0c2dfe17ec4443108f45f132e56d2ec1": {
          "model_module": "@jupyter-widgets/controls",
          "model_name": "ProgressStyleModel",
          "model_module_version": "1.5.0",
          "state": {
            "_view_name": "StyleView",
            "_model_name": "ProgressStyleModel",
            "description_width": "",
            "_view_module": "@jupyter-widgets/base",
            "_model_module_version": "1.5.0",
            "_view_count": null,
            "_view_module_version": "1.2.0",
            "bar_color": null,
            "_model_module": "@jupyter-widgets/controls"
          }
        },
        "f7150fed353c4f7fba5699a108dc9bd5": {
          "model_module": "@jupyter-widgets/base",
          "model_name": "LayoutModel",
          "model_module_version": "1.2.0",
          "state": {
            "_view_name": "LayoutView",
            "grid_template_rows": null,
            "right": null,
            "justify_content": null,
            "_view_module": "@jupyter-widgets/base",
            "overflow": null,
            "_model_module_version": "1.2.0",
            "_view_count": null,
            "flex_flow": null,
            "width": null,
            "min_width": null,
            "border": null,
            "align_items": null,
            "bottom": null,
            "_model_module": "@jupyter-widgets/base",
            "top": null,
            "grid_column": null,
            "overflow_y": null,
            "overflow_x": null,
            "grid_auto_flow": null,
            "grid_area": null,
            "grid_template_columns": null,
            "flex": null,
            "_model_name": "LayoutModel",
            "justify_items": null,
            "grid_row": null,
            "max_height": null,
            "align_content": null,
            "visibility": null,
            "align_self": null,
            "height": null,
            "min_height": null,
            "padding": null,
            "grid_auto_rows": null,
            "grid_gap": null,
            "max_width": null,
            "order": null,
            "_view_module_version": "1.2.0",
            "grid_template_areas": null,
            "object_position": null,
            "object_fit": null,
            "grid_auto_columns": null,
            "margin": null,
            "display": null,
            "left": null
          }
        },
        "57a16792546d48389c9cd91c5029e075": {
          "model_module": "@jupyter-widgets/controls",
          "model_name": "DescriptionStyleModel",
          "model_module_version": "1.5.0",
          "state": {
            "_view_name": "StyleView",
            "_model_name": "DescriptionStyleModel",
            "description_width": "",
            "_view_module": "@jupyter-widgets/base",
            "_model_module_version": "1.5.0",
            "_view_count": null,
            "_view_module_version": "1.2.0",
            "_model_module": "@jupyter-widgets/controls"
          }
        },
        "f745527c724943e18746e6077f457278": {
          "model_module": "@jupyter-widgets/base",
          "model_name": "LayoutModel",
          "model_module_version": "1.2.0",
          "state": {
            "_view_name": "LayoutView",
            "grid_template_rows": null,
            "right": null,
            "justify_content": null,
            "_view_module": "@jupyter-widgets/base",
            "overflow": null,
            "_model_module_version": "1.2.0",
            "_view_count": null,
            "flex_flow": null,
            "width": null,
            "min_width": null,
            "border": null,
            "align_items": null,
            "bottom": null,
            "_model_module": "@jupyter-widgets/base",
            "top": null,
            "grid_column": null,
            "overflow_y": null,
            "overflow_x": null,
            "grid_auto_flow": null,
            "grid_area": null,
            "grid_template_columns": null,
            "flex": null,
            "_model_name": "LayoutModel",
            "justify_items": null,
            "grid_row": null,
            "max_height": null,
            "align_content": null,
            "visibility": null,
            "align_self": null,
            "height": null,
            "min_height": null,
            "padding": null,
            "grid_auto_rows": null,
            "grid_gap": null,
            "max_width": null,
            "order": null,
            "_view_module_version": "1.2.0",
            "grid_template_areas": null,
            "object_position": null,
            "object_fit": null,
            "grid_auto_columns": null,
            "margin": null,
            "display": null,
            "left": null
          }
        },
        "263820c7a7504d7b8f8b42cae5f58767": {
          "model_module": "@jupyter-widgets/controls",
          "model_name": "HBoxModel",
          "model_module_version": "1.5.0",
          "state": {
            "_view_name": "HBoxView",
            "_dom_classes": [],
            "_model_name": "HBoxModel",
            "_view_module": "@jupyter-widgets/controls",
            "_model_module_version": "1.5.0",
            "_view_count": null,
            "_view_module_version": "1.5.0",
            "box_style": "",
            "layout": "IPY_MODEL_a922dea4c5ab4c52b4933321b4589a7f",
            "_model_module": "@jupyter-widgets/controls",
            "children": [
              "IPY_MODEL_8acad4d756b141fdbbbe891f2ff6edfa",
              "IPY_MODEL_0e66002237564da8a091e4ebdfb10fe9",
              "IPY_MODEL_89f2997f211446a2b1221d59be544535"
            ]
          }
        },
        "a922dea4c5ab4c52b4933321b4589a7f": {
          "model_module": "@jupyter-widgets/base",
          "model_name": "LayoutModel",
          "model_module_version": "1.2.0",
          "state": {
            "_view_name": "LayoutView",
            "grid_template_rows": null,
            "right": null,
            "justify_content": null,
            "_view_module": "@jupyter-widgets/base",
            "overflow": null,
            "_model_module_version": "1.2.0",
            "_view_count": null,
            "flex_flow": null,
            "width": null,
            "min_width": null,
            "border": null,
            "align_items": null,
            "bottom": null,
            "_model_module": "@jupyter-widgets/base",
            "top": null,
            "grid_column": null,
            "overflow_y": null,
            "overflow_x": null,
            "grid_auto_flow": null,
            "grid_area": null,
            "grid_template_columns": null,
            "flex": null,
            "_model_name": "LayoutModel",
            "justify_items": null,
            "grid_row": null,
            "max_height": null,
            "align_content": null,
            "visibility": null,
            "align_self": null,
            "height": null,
            "min_height": null,
            "padding": null,
            "grid_auto_rows": null,
            "grid_gap": null,
            "max_width": null,
            "order": null,
            "_view_module_version": "1.2.0",
            "grid_template_areas": null,
            "object_position": null,
            "object_fit": null,
            "grid_auto_columns": null,
            "margin": null,
            "display": null,
            "left": null
          }
        },
        "8acad4d756b141fdbbbe891f2ff6edfa": {
          "model_module": "@jupyter-widgets/controls",
          "model_name": "HTMLModel",
          "model_module_version": "1.5.0",
          "state": {
            "_view_name": "HTMLView",
            "style": "IPY_MODEL_b83413d155b54010a44624702b0ce5e6",
            "_dom_classes": [],
            "description": "",
            "_model_name": "HTMLModel",
            "placeholder": "​",
            "_view_module": "@jupyter-widgets/controls",
            "_model_module_version": "1.5.0",
            "value": "Downloading: 100%",
            "_view_count": null,
            "_view_module_version": "1.5.0",
            "description_tooltip": null,
            "_model_module": "@jupyter-widgets/controls",
            "layout": "IPY_MODEL_5d0e83d88be84754bd59c92d33247ede"
          }
        },
        "0e66002237564da8a091e4ebdfb10fe9": {
          "model_module": "@jupyter-widgets/controls",
          "model_name": "FloatProgressModel",
          "model_module_version": "1.5.0",
          "state": {
            "_view_name": "ProgressView",
            "style": "IPY_MODEL_cba86b5e2ac249e880f2e4a6a37a2743",
            "_dom_classes": [],
            "description": "",
            "_model_name": "FloatProgressModel",
            "bar_style": "success",
            "max": 553,
            "_view_module": "@jupyter-widgets/controls",
            "_model_module_version": "1.5.0",
            "value": 553,
            "_view_count": null,
            "_view_module_version": "1.5.0",
            "orientation": "horizontal",
            "min": 0,
            "description_tooltip": null,
            "_model_module": "@jupyter-widgets/controls",
            "layout": "IPY_MODEL_bcf7746675f44d2dbca25824933580ec"
          }
        },
        "89f2997f211446a2b1221d59be544535": {
          "model_module": "@jupyter-widgets/controls",
          "model_name": "HTMLModel",
          "model_module_version": "1.5.0",
          "state": {
            "_view_name": "HTMLView",
            "style": "IPY_MODEL_53fd47ceca204ae0b8d5d361399dacc9",
            "_dom_classes": [],
            "description": "",
            "_model_name": "HTMLModel",
            "placeholder": "​",
            "_view_module": "@jupyter-widgets/controls",
            "_model_module_version": "1.5.0",
            "value": " 553/553 [00:00&lt;00:00, 15.5kB/s]",
            "_view_count": null,
            "_view_module_version": "1.5.0",
            "description_tooltip": null,
            "_model_module": "@jupyter-widgets/controls",
            "layout": "IPY_MODEL_b98e07e2eaaa40cf97300cd393735280"
          }
        },
        "b83413d155b54010a44624702b0ce5e6": {
          "model_module": "@jupyter-widgets/controls",
          "model_name": "DescriptionStyleModel",
          "model_module_version": "1.5.0",
          "state": {
            "_view_name": "StyleView",
            "_model_name": "DescriptionStyleModel",
            "description_width": "",
            "_view_module": "@jupyter-widgets/base",
            "_model_module_version": "1.5.0",
            "_view_count": null,
            "_view_module_version": "1.2.0",
            "_model_module": "@jupyter-widgets/controls"
          }
        },
        "5d0e83d88be84754bd59c92d33247ede": {
          "model_module": "@jupyter-widgets/base",
          "model_name": "LayoutModel",
          "model_module_version": "1.2.0",
          "state": {
            "_view_name": "LayoutView",
            "grid_template_rows": null,
            "right": null,
            "justify_content": null,
            "_view_module": "@jupyter-widgets/base",
            "overflow": null,
            "_model_module_version": "1.2.0",
            "_view_count": null,
            "flex_flow": null,
            "width": null,
            "min_width": null,
            "border": null,
            "align_items": null,
            "bottom": null,
            "_model_module": "@jupyter-widgets/base",
            "top": null,
            "grid_column": null,
            "overflow_y": null,
            "overflow_x": null,
            "grid_auto_flow": null,
            "grid_area": null,
            "grid_template_columns": null,
            "flex": null,
            "_model_name": "LayoutModel",
            "justify_items": null,
            "grid_row": null,
            "max_height": null,
            "align_content": null,
            "visibility": null,
            "align_self": null,
            "height": null,
            "min_height": null,
            "padding": null,
            "grid_auto_rows": null,
            "grid_gap": null,
            "max_width": null,
            "order": null,
            "_view_module_version": "1.2.0",
            "grid_template_areas": null,
            "object_position": null,
            "object_fit": null,
            "grid_auto_columns": null,
            "margin": null,
            "display": null,
            "left": null
          }
        },
        "cba86b5e2ac249e880f2e4a6a37a2743": {
          "model_module": "@jupyter-widgets/controls",
          "model_name": "ProgressStyleModel",
          "model_module_version": "1.5.0",
          "state": {
            "_view_name": "StyleView",
            "_model_name": "ProgressStyleModel",
            "description_width": "",
            "_view_module": "@jupyter-widgets/base",
            "_model_module_version": "1.5.0",
            "_view_count": null,
            "_view_module_version": "1.2.0",
            "bar_color": null,
            "_model_module": "@jupyter-widgets/controls"
          }
        },
        "bcf7746675f44d2dbca25824933580ec": {
          "model_module": "@jupyter-widgets/base",
          "model_name": "LayoutModel",
          "model_module_version": "1.2.0",
          "state": {
            "_view_name": "LayoutView",
            "grid_template_rows": null,
            "right": null,
            "justify_content": null,
            "_view_module": "@jupyter-widgets/base",
            "overflow": null,
            "_model_module_version": "1.2.0",
            "_view_count": null,
            "flex_flow": null,
            "width": null,
            "min_width": null,
            "border": null,
            "align_items": null,
            "bottom": null,
            "_model_module": "@jupyter-widgets/base",
            "top": null,
            "grid_column": null,
            "overflow_y": null,
            "overflow_x": null,
            "grid_auto_flow": null,
            "grid_area": null,
            "grid_template_columns": null,
            "flex": null,
            "_model_name": "LayoutModel",
            "justify_items": null,
            "grid_row": null,
            "max_height": null,
            "align_content": null,
            "visibility": null,
            "align_self": null,
            "height": null,
            "min_height": null,
            "padding": null,
            "grid_auto_rows": null,
            "grid_gap": null,
            "max_width": null,
            "order": null,
            "_view_module_version": "1.2.0",
            "grid_template_areas": null,
            "object_position": null,
            "object_fit": null,
            "grid_auto_columns": null,
            "margin": null,
            "display": null,
            "left": null
          }
        },
        "53fd47ceca204ae0b8d5d361399dacc9": {
          "model_module": "@jupyter-widgets/controls",
          "model_name": "DescriptionStyleModel",
          "model_module_version": "1.5.0",
          "state": {
            "_view_name": "StyleView",
            "_model_name": "DescriptionStyleModel",
            "description_width": "",
            "_view_module": "@jupyter-widgets/base",
            "_model_module_version": "1.5.0",
            "_view_count": null,
            "_view_module_version": "1.2.0",
            "_model_module": "@jupyter-widgets/controls"
          }
        },
        "b98e07e2eaaa40cf97300cd393735280": {
          "model_module": "@jupyter-widgets/base",
          "model_name": "LayoutModel",
          "model_module_version": "1.2.0",
          "state": {
            "_view_name": "LayoutView",
            "grid_template_rows": null,
            "right": null,
            "justify_content": null,
            "_view_module": "@jupyter-widgets/base",
            "overflow": null,
            "_model_module_version": "1.2.0",
            "_view_count": null,
            "flex_flow": null,
            "width": null,
            "min_width": null,
            "border": null,
            "align_items": null,
            "bottom": null,
            "_model_module": "@jupyter-widgets/base",
            "top": null,
            "grid_column": null,
            "overflow_y": null,
            "overflow_x": null,
            "grid_auto_flow": null,
            "grid_area": null,
            "grid_template_columns": null,
            "flex": null,
            "_model_name": "LayoutModel",
            "justify_items": null,
            "grid_row": null,
            "max_height": null,
            "align_content": null,
            "visibility": null,
            "align_self": null,
            "height": null,
            "min_height": null,
            "padding": null,
            "grid_auto_rows": null,
            "grid_gap": null,
            "max_width": null,
            "order": null,
            "_view_module_version": "1.2.0",
            "grid_template_areas": null,
            "object_position": null,
            "object_fit": null,
            "grid_auto_columns": null,
            "margin": null,
            "display": null,
            "left": null
          }
        },
        "236e25a0c23e4507b34b1a1ab8220485": {
          "model_module": "@jupyter-widgets/controls",
          "model_name": "HBoxModel",
          "model_module_version": "1.5.0",
          "state": {
            "_view_name": "HBoxView",
            "_dom_classes": [],
            "_model_name": "HBoxModel",
            "_view_module": "@jupyter-widgets/controls",
            "_model_module_version": "1.5.0",
            "_view_count": null,
            "_view_module_version": "1.5.0",
            "box_style": "",
            "layout": "IPY_MODEL_cdbfb5dc737f452aa0d1a682a7585001",
            "_model_module": "@jupyter-widgets/controls",
            "children": [
              "IPY_MODEL_30cb06186c9c4bda8c074bf5b1b583ae",
              "IPY_MODEL_e759c7954604414aa0236ed20f3e6691",
              "IPY_MODEL_a0bacf15da614a4694917a770fefb5c0"
            ]
          }
        },
        "cdbfb5dc737f452aa0d1a682a7585001": {
          "model_module": "@jupyter-widgets/base",
          "model_name": "LayoutModel",
          "model_module_version": "1.2.0",
          "state": {
            "_view_name": "LayoutView",
            "grid_template_rows": null,
            "right": null,
            "justify_content": null,
            "_view_module": "@jupyter-widgets/base",
            "overflow": null,
            "_model_module_version": "1.2.0",
            "_view_count": null,
            "flex_flow": null,
            "width": null,
            "min_width": null,
            "border": null,
            "align_items": null,
            "bottom": null,
            "_model_module": "@jupyter-widgets/base",
            "top": null,
            "grid_column": null,
            "overflow_y": null,
            "overflow_x": null,
            "grid_auto_flow": null,
            "grid_area": null,
            "grid_template_columns": null,
            "flex": null,
            "_model_name": "LayoutModel",
            "justify_items": null,
            "grid_row": null,
            "max_height": null,
            "align_content": null,
            "visibility": null,
            "align_self": null,
            "height": null,
            "min_height": null,
            "padding": null,
            "grid_auto_rows": null,
            "grid_gap": null,
            "max_width": null,
            "order": null,
            "_view_module_version": "1.2.0",
            "grid_template_areas": null,
            "object_position": null,
            "object_fit": null,
            "grid_auto_columns": null,
            "margin": null,
            "display": null,
            "left": null
          }
        },
        "30cb06186c9c4bda8c074bf5b1b583ae": {
          "model_module": "@jupyter-widgets/controls",
          "model_name": "HTMLModel",
          "model_module_version": "1.5.0",
          "state": {
            "_view_name": "HTMLView",
            "style": "IPY_MODEL_8e4ffcab1b6948b4b57637bd278cb397",
            "_dom_classes": [],
            "description": "",
            "_model_name": "HTMLModel",
            "placeholder": "​",
            "_view_module": "@jupyter-widgets/controls",
            "_model_module_version": "1.5.0",
            "value": "Downloading: 100%",
            "_view_count": null,
            "_view_module_version": "1.5.0",
            "description_tooltip": null,
            "_model_module": "@jupyter-widgets/controls",
            "layout": "IPY_MODEL_4c9830f8965b41d1b70ce7b74985d3a3"
          }
        },
        "e759c7954604414aa0236ed20f3e6691": {
          "model_module": "@jupyter-widgets/controls",
          "model_name": "FloatProgressModel",
          "model_module_version": "1.5.0",
          "state": {
            "_view_name": "ProgressView",
            "style": "IPY_MODEL_61b0f15044dc48f6a91771c6e433c926",
            "_dom_classes": [],
            "description": "",
            "_model_name": "FloatProgressModel",
            "bar_style": "success",
            "max": 4309802,
            "_view_module": "@jupyter-widgets/controls",
            "_model_module_version": "1.5.0",
            "value": 4309802,
            "_view_count": null,
            "_view_module_version": "1.5.0",
            "orientation": "horizontal",
            "min": 0,
            "description_tooltip": null,
            "_model_module": "@jupyter-widgets/controls",
            "layout": "IPY_MODEL_dfcc026e43cb48bb95f734bca20d9a10"
          }
        },
        "a0bacf15da614a4694917a770fefb5c0": {
          "model_module": "@jupyter-widgets/controls",
          "model_name": "HTMLModel",
          "model_module_version": "1.5.0",
          "state": {
            "_view_name": "HTMLView",
            "style": "IPY_MODEL_773bc44fa5634a6cb1af19a6696d7d4c",
            "_dom_classes": [],
            "description": "",
            "_model_name": "HTMLModel",
            "placeholder": "​",
            "_view_module": "@jupyter-widgets/controls",
            "_model_module_version": "1.5.0",
            "value": " 4.11M/4.11M [00:01&lt;00:00, 4.54MB/s]",
            "_view_count": null,
            "_view_module_version": "1.5.0",
            "description_tooltip": null,
            "_model_module": "@jupyter-widgets/controls",
            "layout": "IPY_MODEL_2a0aac6fe579471d8e8e836e1e67ce87"
          }
        },
        "8e4ffcab1b6948b4b57637bd278cb397": {
          "model_module": "@jupyter-widgets/controls",
          "model_name": "DescriptionStyleModel",
          "model_module_version": "1.5.0",
          "state": {
            "_view_name": "StyleView",
            "_model_name": "DescriptionStyleModel",
            "description_width": "",
            "_view_module": "@jupyter-widgets/base",
            "_model_module_version": "1.5.0",
            "_view_count": null,
            "_view_module_version": "1.2.0",
            "_model_module": "@jupyter-widgets/controls"
          }
        },
        "4c9830f8965b41d1b70ce7b74985d3a3": {
          "model_module": "@jupyter-widgets/base",
          "model_name": "LayoutModel",
          "model_module_version": "1.2.0",
          "state": {
            "_view_name": "LayoutView",
            "grid_template_rows": null,
            "right": null,
            "justify_content": null,
            "_view_module": "@jupyter-widgets/base",
            "overflow": null,
            "_model_module_version": "1.2.0",
            "_view_count": null,
            "flex_flow": null,
            "width": null,
            "min_width": null,
            "border": null,
            "align_items": null,
            "bottom": null,
            "_model_module": "@jupyter-widgets/base",
            "top": null,
            "grid_column": null,
            "overflow_y": null,
            "overflow_x": null,
            "grid_auto_flow": null,
            "grid_area": null,
            "grid_template_columns": null,
            "flex": null,
            "_model_name": "LayoutModel",
            "justify_items": null,
            "grid_row": null,
            "max_height": null,
            "align_content": null,
            "visibility": null,
            "align_self": null,
            "height": null,
            "min_height": null,
            "padding": null,
            "grid_auto_rows": null,
            "grid_gap": null,
            "max_width": null,
            "order": null,
            "_view_module_version": "1.2.0",
            "grid_template_areas": null,
            "object_position": null,
            "object_fit": null,
            "grid_auto_columns": null,
            "margin": null,
            "display": null,
            "left": null
          }
        },
        "61b0f15044dc48f6a91771c6e433c926": {
          "model_module": "@jupyter-widgets/controls",
          "model_name": "ProgressStyleModel",
          "model_module_version": "1.5.0",
          "state": {
            "_view_name": "StyleView",
            "_model_name": "ProgressStyleModel",
            "description_width": "",
            "_view_module": "@jupyter-widgets/base",
            "_model_module_version": "1.5.0",
            "_view_count": null,
            "_view_module_version": "1.2.0",
            "bar_color": null,
            "_model_module": "@jupyter-widgets/controls"
          }
        },
        "dfcc026e43cb48bb95f734bca20d9a10": {
          "model_module": "@jupyter-widgets/base",
          "model_name": "LayoutModel",
          "model_module_version": "1.2.0",
          "state": {
            "_view_name": "LayoutView",
            "grid_template_rows": null,
            "right": null,
            "justify_content": null,
            "_view_module": "@jupyter-widgets/base",
            "overflow": null,
            "_model_module_version": "1.2.0",
            "_view_count": null,
            "flex_flow": null,
            "width": null,
            "min_width": null,
            "border": null,
            "align_items": null,
            "bottom": null,
            "_model_module": "@jupyter-widgets/base",
            "top": null,
            "grid_column": null,
            "overflow_y": null,
            "overflow_x": null,
            "grid_auto_flow": null,
            "grid_area": null,
            "grid_template_columns": null,
            "flex": null,
            "_model_name": "LayoutModel",
            "justify_items": null,
            "grid_row": null,
            "max_height": null,
            "align_content": null,
            "visibility": null,
            "align_self": null,
            "height": null,
            "min_height": null,
            "padding": null,
            "grid_auto_rows": null,
            "grid_gap": null,
            "max_width": null,
            "order": null,
            "_view_module_version": "1.2.0",
            "grid_template_areas": null,
            "object_position": null,
            "object_fit": null,
            "grid_auto_columns": null,
            "margin": null,
            "display": null,
            "left": null
          }
        },
        "773bc44fa5634a6cb1af19a6696d7d4c": {
          "model_module": "@jupyter-widgets/controls",
          "model_name": "DescriptionStyleModel",
          "model_module_version": "1.5.0",
          "state": {
            "_view_name": "StyleView",
            "_model_name": "DescriptionStyleModel",
            "description_width": "",
            "_view_module": "@jupyter-widgets/base",
            "_model_module_version": "1.5.0",
            "_view_count": null,
            "_view_module_version": "1.2.0",
            "_model_module": "@jupyter-widgets/controls"
          }
        },
        "2a0aac6fe579471d8e8e836e1e67ce87": {
          "model_module": "@jupyter-widgets/base",
          "model_name": "LayoutModel",
          "model_module_version": "1.2.0",
          "state": {
            "_view_name": "LayoutView",
            "grid_template_rows": null,
            "right": null,
            "justify_content": null,
            "_view_module": "@jupyter-widgets/base",
            "overflow": null,
            "_model_module_version": "1.2.0",
            "_view_count": null,
            "flex_flow": null,
            "width": null,
            "min_width": null,
            "border": null,
            "align_items": null,
            "bottom": null,
            "_model_module": "@jupyter-widgets/base",
            "top": null,
            "grid_column": null,
            "overflow_y": null,
            "overflow_x": null,
            "grid_auto_flow": null,
            "grid_area": null,
            "grid_template_columns": null,
            "flex": null,
            "_model_name": "LayoutModel",
            "justify_items": null,
            "grid_row": null,
            "max_height": null,
            "align_content": null,
            "visibility": null,
            "align_self": null,
            "height": null,
            "min_height": null,
            "padding": null,
            "grid_auto_rows": null,
            "grid_gap": null,
            "max_width": null,
            "order": null,
            "_view_module_version": "1.2.0",
            "grid_template_areas": null,
            "object_position": null,
            "object_fit": null,
            "grid_auto_columns": null,
            "margin": null,
            "display": null,
            "left": null
          }
        },
        "1badc4828f4a4916aada0f52aeaadf36": {
          "model_module": "@jupyter-widgets/controls",
          "model_name": "HBoxModel",
          "model_module_version": "1.5.0",
          "state": {
            "_view_name": "HBoxView",
            "_dom_classes": [],
            "_model_name": "HBoxModel",
            "_view_module": "@jupyter-widgets/controls",
            "_model_module_version": "1.5.0",
            "_view_count": null,
            "_view_module_version": "1.5.0",
            "box_style": "",
            "layout": "IPY_MODEL_1c716ce7f0f94eb7bb5a158fc86e2049",
            "_model_module": "@jupyter-widgets/controls",
            "children": [
              "IPY_MODEL_f030324ef3ef4123a470da2dbd64facf",
              "IPY_MODEL_cb58874a2aad4351b9075a5e4eaa3bb0",
              "IPY_MODEL_054eef58587643ea85aa8a7a4f7e1746"
            ]
          }
        },
        "1c716ce7f0f94eb7bb5a158fc86e2049": {
          "model_module": "@jupyter-widgets/base",
          "model_name": "LayoutModel",
          "model_module_version": "1.2.0",
          "state": {
            "_view_name": "LayoutView",
            "grid_template_rows": null,
            "right": null,
            "justify_content": null,
            "_view_module": "@jupyter-widgets/base",
            "overflow": null,
            "_model_module_version": "1.2.0",
            "_view_count": null,
            "flex_flow": null,
            "width": null,
            "min_width": null,
            "border": null,
            "align_items": null,
            "bottom": null,
            "_model_module": "@jupyter-widgets/base",
            "top": null,
            "grid_column": null,
            "overflow_y": null,
            "overflow_x": null,
            "grid_auto_flow": null,
            "grid_area": null,
            "grid_template_columns": null,
            "flex": null,
            "_model_name": "LayoutModel",
            "justify_items": null,
            "grid_row": null,
            "max_height": null,
            "align_content": null,
            "visibility": null,
            "align_self": null,
            "height": null,
            "min_height": null,
            "padding": null,
            "grid_auto_rows": null,
            "grid_gap": null,
            "max_width": null,
            "order": null,
            "_view_module_version": "1.2.0",
            "grid_template_areas": null,
            "object_position": null,
            "object_fit": null,
            "grid_auto_columns": null,
            "margin": null,
            "display": null,
            "left": null
          }
        },
        "f030324ef3ef4123a470da2dbd64facf": {
          "model_module": "@jupyter-widgets/controls",
          "model_name": "HTMLModel",
          "model_module_version": "1.5.0",
          "state": {
            "_view_name": "HTMLView",
            "style": "IPY_MODEL_cf2ed10e068b4ea98814d0ff8fc5f7b4",
            "_dom_classes": [],
            "description": "",
            "_model_name": "HTMLModel",
            "placeholder": "​",
            "_view_module": "@jupyter-widgets/controls",
            "_model_module_version": "1.5.0",
            "value": "Downloading: 100%",
            "_view_count": null,
            "_view_module_version": "1.5.0",
            "description_tooltip": null,
            "_model_module": "@jupyter-widgets/controls",
            "layout": "IPY_MODEL_c716f649211444988384a37b769b56cf"
          }
        },
        "cb58874a2aad4351b9075a5e4eaa3bb0": {
          "model_module": "@jupyter-widgets/controls",
          "model_name": "FloatProgressModel",
          "model_module_version": "1.5.0",
          "state": {
            "_view_name": "ProgressView",
            "style": "IPY_MODEL_9fa2c87853d440fe9835358e17f1d5b1",
            "_dom_classes": [],
            "description": "",
            "_model_name": "FloatProgressModel",
            "bar_style": "success",
            "max": 99,
            "_view_module": "@jupyter-widgets/controls",
            "_model_module_version": "1.5.0",
            "value": 99,
            "_view_count": null,
            "_view_module_version": "1.5.0",
            "orientation": "horizontal",
            "min": 0,
            "description_tooltip": null,
            "_model_module": "@jupyter-widgets/controls",
            "layout": "IPY_MODEL_ceaa1fc0f8534f1ebab0bc80bf9d52e4"
          }
        },
        "054eef58587643ea85aa8a7a4f7e1746": {
          "model_module": "@jupyter-widgets/controls",
          "model_name": "HTMLModel",
          "model_module_version": "1.5.0",
          "state": {
            "_view_name": "HTMLView",
            "style": "IPY_MODEL_33f13a6fdf034dbaa1b5589912c87d1e",
            "_dom_classes": [],
            "description": "",
            "_model_name": "HTMLModel",
            "placeholder": "​",
            "_view_module": "@jupyter-widgets/controls",
            "_model_module_version": "1.5.0",
            "value": " 99.0/99.0 [00:00&lt;00:00, 2.10kB/s]",
            "_view_count": null,
            "_view_module_version": "1.5.0",
            "description_tooltip": null,
            "_model_module": "@jupyter-widgets/controls",
            "layout": "IPY_MODEL_336c96ca99294389ae6d6f7f7dc223aa"
          }
        },
        "cf2ed10e068b4ea98814d0ff8fc5f7b4": {
          "model_module": "@jupyter-widgets/controls",
          "model_name": "DescriptionStyleModel",
          "model_module_version": "1.5.0",
          "state": {
            "_view_name": "StyleView",
            "_model_name": "DescriptionStyleModel",
            "description_width": "",
            "_view_module": "@jupyter-widgets/base",
            "_model_module_version": "1.5.0",
            "_view_count": null,
            "_view_module_version": "1.2.0",
            "_model_module": "@jupyter-widgets/controls"
          }
        },
        "c716f649211444988384a37b769b56cf": {
          "model_module": "@jupyter-widgets/base",
          "model_name": "LayoutModel",
          "model_module_version": "1.2.0",
          "state": {
            "_view_name": "LayoutView",
            "grid_template_rows": null,
            "right": null,
            "justify_content": null,
            "_view_module": "@jupyter-widgets/base",
            "overflow": null,
            "_model_module_version": "1.2.0",
            "_view_count": null,
            "flex_flow": null,
            "width": null,
            "min_width": null,
            "border": null,
            "align_items": null,
            "bottom": null,
            "_model_module": "@jupyter-widgets/base",
            "top": null,
            "grid_column": null,
            "overflow_y": null,
            "overflow_x": null,
            "grid_auto_flow": null,
            "grid_area": null,
            "grid_template_columns": null,
            "flex": null,
            "_model_name": "LayoutModel",
            "justify_items": null,
            "grid_row": null,
            "max_height": null,
            "align_content": null,
            "visibility": null,
            "align_self": null,
            "height": null,
            "min_height": null,
            "padding": null,
            "grid_auto_rows": null,
            "grid_gap": null,
            "max_width": null,
            "order": null,
            "_view_module_version": "1.2.0",
            "grid_template_areas": null,
            "object_position": null,
            "object_fit": null,
            "grid_auto_columns": null,
            "margin": null,
            "display": null,
            "left": null
          }
        },
        "9fa2c87853d440fe9835358e17f1d5b1": {
          "model_module": "@jupyter-widgets/controls",
          "model_name": "ProgressStyleModel",
          "model_module_version": "1.5.0",
          "state": {
            "_view_name": "StyleView",
            "_model_name": "ProgressStyleModel",
            "description_width": "",
            "_view_module": "@jupyter-widgets/base",
            "_model_module_version": "1.5.0",
            "_view_count": null,
            "_view_module_version": "1.2.0",
            "bar_color": null,
            "_model_module": "@jupyter-widgets/controls"
          }
        },
        "ceaa1fc0f8534f1ebab0bc80bf9d52e4": {
          "model_module": "@jupyter-widgets/base",
          "model_name": "LayoutModel",
          "model_module_version": "1.2.0",
          "state": {
            "_view_name": "LayoutView",
            "grid_template_rows": null,
            "right": null,
            "justify_content": null,
            "_view_module": "@jupyter-widgets/base",
            "overflow": null,
            "_model_module_version": "1.2.0",
            "_view_count": null,
            "flex_flow": null,
            "width": null,
            "min_width": null,
            "border": null,
            "align_items": null,
            "bottom": null,
            "_model_module": "@jupyter-widgets/base",
            "top": null,
            "grid_column": null,
            "overflow_y": null,
            "overflow_x": null,
            "grid_auto_flow": null,
            "grid_area": null,
            "grid_template_columns": null,
            "flex": null,
            "_model_name": "LayoutModel",
            "justify_items": null,
            "grid_row": null,
            "max_height": null,
            "align_content": null,
            "visibility": null,
            "align_self": null,
            "height": null,
            "min_height": null,
            "padding": null,
            "grid_auto_rows": null,
            "grid_gap": null,
            "max_width": null,
            "order": null,
            "_view_module_version": "1.2.0",
            "grid_template_areas": null,
            "object_position": null,
            "object_fit": null,
            "grid_auto_columns": null,
            "margin": null,
            "display": null,
            "left": null
          }
        },
        "33f13a6fdf034dbaa1b5589912c87d1e": {
          "model_module": "@jupyter-widgets/controls",
          "model_name": "DescriptionStyleModel",
          "model_module_version": "1.5.0",
          "state": {
            "_view_name": "StyleView",
            "_model_name": "DescriptionStyleModel",
            "description_width": "",
            "_view_module": "@jupyter-widgets/base",
            "_model_module_version": "1.5.0",
            "_view_count": null,
            "_view_module_version": "1.2.0",
            "_model_module": "@jupyter-widgets/controls"
          }
        },
        "336c96ca99294389ae6d6f7f7dc223aa": {
          "model_module": "@jupyter-widgets/base",
          "model_name": "LayoutModel",
          "model_module_version": "1.2.0",
          "state": {
            "_view_name": "LayoutView",
            "grid_template_rows": null,
            "right": null,
            "justify_content": null,
            "_view_module": "@jupyter-widgets/base",
            "overflow": null,
            "_model_module_version": "1.2.0",
            "_view_count": null,
            "flex_flow": null,
            "width": null,
            "min_width": null,
            "border": null,
            "align_items": null,
            "bottom": null,
            "_model_module": "@jupyter-widgets/base",
            "top": null,
            "grid_column": null,
            "overflow_y": null,
            "overflow_x": null,
            "grid_auto_flow": null,
            "grid_area": null,
            "grid_template_columns": null,
            "flex": null,
            "_model_name": "LayoutModel",
            "justify_items": null,
            "grid_row": null,
            "max_height": null,
            "align_content": null,
            "visibility": null,
            "align_self": null,
            "height": null,
            "min_height": null,
            "padding": null,
            "grid_auto_rows": null,
            "grid_gap": null,
            "max_width": null,
            "order": null,
            "_view_module_version": "1.2.0",
            "grid_template_areas": null,
            "object_position": null,
            "object_fit": null,
            "grid_auto_columns": null,
            "margin": null,
            "display": null,
            "left": null
          }
        },
        "c27ea12e2f7940bb88d85964ea0377f1": {
          "model_module": "@jupyter-widgets/controls",
          "model_name": "HBoxModel",
          "model_module_version": "1.5.0",
          "state": {
            "_view_name": "HBoxView",
            "_dom_classes": [],
            "_model_name": "HBoxModel",
            "_view_module": "@jupyter-widgets/controls",
            "_model_module_version": "1.5.0",
            "_view_count": null,
            "_view_module_version": "1.5.0",
            "box_style": "",
            "layout": "IPY_MODEL_806c895305e04183998d31166207ab8b",
            "_model_module": "@jupyter-widgets/controls",
            "children": [
              "IPY_MODEL_e0f40d8c0078454589d4b68b2c1f6353",
              "IPY_MODEL_d9bf5cf6830042c6a7ef36ad003903f9",
              "IPY_MODEL_4f798e725d1e4d8fa3f2620f9aa178e9"
            ]
          }
        },
        "806c895305e04183998d31166207ab8b": {
          "model_module": "@jupyter-widgets/base",
          "model_name": "LayoutModel",
          "model_module_version": "1.2.0",
          "state": {
            "_view_name": "LayoutView",
            "grid_template_rows": null,
            "right": null,
            "justify_content": null,
            "_view_module": "@jupyter-widgets/base",
            "overflow": null,
            "_model_module_version": "1.2.0",
            "_view_count": null,
            "flex_flow": null,
            "width": null,
            "min_width": null,
            "border": null,
            "align_items": null,
            "bottom": null,
            "_model_module": "@jupyter-widgets/base",
            "top": null,
            "grid_column": null,
            "overflow_y": null,
            "overflow_x": null,
            "grid_auto_flow": null,
            "grid_area": null,
            "grid_template_columns": null,
            "flex": null,
            "_model_name": "LayoutModel",
            "justify_items": null,
            "grid_row": null,
            "max_height": null,
            "align_content": null,
            "visibility": null,
            "align_self": null,
            "height": null,
            "min_height": null,
            "padding": null,
            "grid_auto_rows": null,
            "grid_gap": null,
            "max_width": null,
            "order": null,
            "_view_module_version": "1.2.0",
            "grid_template_areas": null,
            "object_position": null,
            "object_fit": null,
            "grid_auto_columns": null,
            "margin": null,
            "display": null,
            "left": null
          }
        },
        "e0f40d8c0078454589d4b68b2c1f6353": {
          "model_module": "@jupyter-widgets/controls",
          "model_name": "HTMLModel",
          "model_module_version": "1.5.0",
          "state": {
            "_view_name": "HTMLView",
            "style": "IPY_MODEL_5e965f4fe06e4d2daa9fcf704b1a538c",
            "_dom_classes": [],
            "description": "",
            "_model_name": "HTMLModel",
            "placeholder": "​",
            "_view_module": "@jupyter-widgets/controls",
            "_model_module_version": "1.5.0",
            "value": "Downloading: 100%",
            "_view_count": null,
            "_view_module_version": "1.5.0",
            "description_tooltip": null,
            "_model_module": "@jupyter-widgets/controls",
            "layout": "IPY_MODEL_986569b89096409ebd07e7c745f433dd"
          }
        },
        "d9bf5cf6830042c6a7ef36ad003903f9": {
          "model_module": "@jupyter-widgets/controls",
          "model_name": "FloatProgressModel",
          "model_module_version": "1.5.0",
          "state": {
            "_view_name": "ProgressView",
            "style": "IPY_MODEL_5cc5eb18fc8f40538bb878b3684e6ad3",
            "_dom_classes": [],
            "description": "",
            "_model_name": "FloatProgressModel",
            "bar_style": "success",
            "max": 1200794589,
            "_view_module": "@jupyter-widgets/controls",
            "_model_module_version": "1.5.0",
            "value": 1200794589,
            "_view_count": null,
            "_view_module_version": "1.5.0",
            "orientation": "horizontal",
            "min": 0,
            "description_tooltip": null,
            "_model_module": "@jupyter-widgets/controls",
            "layout": "IPY_MODEL_e2287e70cbfb42b1b735734a2ed7a6d0"
          }
        },
        "4f798e725d1e4d8fa3f2620f9aa178e9": {
          "model_module": "@jupyter-widgets/controls",
          "model_name": "HTMLModel",
          "model_module_version": "1.5.0",
          "state": {
            "_view_name": "HTMLView",
            "style": "IPY_MODEL_8ec4781f94624f30af833a01384d5493",
            "_dom_classes": [],
            "description": "",
            "_model_name": "HTMLModel",
            "placeholder": "​",
            "_view_module": "@jupyter-widgets/controls",
            "_model_module_version": "1.5.0",
            "value": " 1.12G/1.12G [00:37&lt;00:00, 32.3MB/s]",
            "_view_count": null,
            "_view_module_version": "1.5.0",
            "description_tooltip": null,
            "_model_module": "@jupyter-widgets/controls",
            "layout": "IPY_MODEL_891f4633216e4e99be8afc4d51031b34"
          }
        },
        "5e965f4fe06e4d2daa9fcf704b1a538c": {
          "model_module": "@jupyter-widgets/controls",
          "model_name": "DescriptionStyleModel",
          "model_module_version": "1.5.0",
          "state": {
            "_view_name": "StyleView",
            "_model_name": "DescriptionStyleModel",
            "description_width": "",
            "_view_module": "@jupyter-widgets/base",
            "_model_module_version": "1.5.0",
            "_view_count": null,
            "_view_module_version": "1.2.0",
            "_model_module": "@jupyter-widgets/controls"
          }
        },
        "986569b89096409ebd07e7c745f433dd": {
          "model_module": "@jupyter-widgets/base",
          "model_name": "LayoutModel",
          "model_module_version": "1.2.0",
          "state": {
            "_view_name": "LayoutView",
            "grid_template_rows": null,
            "right": null,
            "justify_content": null,
            "_view_module": "@jupyter-widgets/base",
            "overflow": null,
            "_model_module_version": "1.2.0",
            "_view_count": null,
            "flex_flow": null,
            "width": null,
            "min_width": null,
            "border": null,
            "align_items": null,
            "bottom": null,
            "_model_module": "@jupyter-widgets/base",
            "top": null,
            "grid_column": null,
            "overflow_y": null,
            "overflow_x": null,
            "grid_auto_flow": null,
            "grid_area": null,
            "grid_template_columns": null,
            "flex": null,
            "_model_name": "LayoutModel",
            "justify_items": null,
            "grid_row": null,
            "max_height": null,
            "align_content": null,
            "visibility": null,
            "align_self": null,
            "height": null,
            "min_height": null,
            "padding": null,
            "grid_auto_rows": null,
            "grid_gap": null,
            "max_width": null,
            "order": null,
            "_view_module_version": "1.2.0",
            "grid_template_areas": null,
            "object_position": null,
            "object_fit": null,
            "grid_auto_columns": null,
            "margin": null,
            "display": null,
            "left": null
          }
        },
        "5cc5eb18fc8f40538bb878b3684e6ad3": {
          "model_module": "@jupyter-widgets/controls",
          "model_name": "ProgressStyleModel",
          "model_module_version": "1.5.0",
          "state": {
            "_view_name": "StyleView",
            "_model_name": "ProgressStyleModel",
            "description_width": "",
            "_view_module": "@jupyter-widgets/base",
            "_model_module_version": "1.5.0",
            "_view_count": null,
            "_view_module_version": "1.2.0",
            "bar_color": null,
            "_model_module": "@jupyter-widgets/controls"
          }
        },
        "e2287e70cbfb42b1b735734a2ed7a6d0": {
          "model_module": "@jupyter-widgets/base",
          "model_name": "LayoutModel",
          "model_module_version": "1.2.0",
          "state": {
            "_view_name": "LayoutView",
            "grid_template_rows": null,
            "right": null,
            "justify_content": null,
            "_view_module": "@jupyter-widgets/base",
            "overflow": null,
            "_model_module_version": "1.2.0",
            "_view_count": null,
            "flex_flow": null,
            "width": null,
            "min_width": null,
            "border": null,
            "align_items": null,
            "bottom": null,
            "_model_module": "@jupyter-widgets/base",
            "top": null,
            "grid_column": null,
            "overflow_y": null,
            "overflow_x": null,
            "grid_auto_flow": null,
            "grid_area": null,
            "grid_template_columns": null,
            "flex": null,
            "_model_name": "LayoutModel",
            "justify_items": null,
            "grid_row": null,
            "max_height": null,
            "align_content": null,
            "visibility": null,
            "align_self": null,
            "height": null,
            "min_height": null,
            "padding": null,
            "grid_auto_rows": null,
            "grid_gap": null,
            "max_width": null,
            "order": null,
            "_view_module_version": "1.2.0",
            "grid_template_areas": null,
            "object_position": null,
            "object_fit": null,
            "grid_auto_columns": null,
            "margin": null,
            "display": null,
            "left": null
          }
        },
        "8ec4781f94624f30af833a01384d5493": {
          "model_module": "@jupyter-widgets/controls",
          "model_name": "DescriptionStyleModel",
          "model_module_version": "1.5.0",
          "state": {
            "_view_name": "StyleView",
            "_model_name": "DescriptionStyleModel",
            "description_width": "",
            "_view_module": "@jupyter-widgets/base",
            "_model_module_version": "1.5.0",
            "_view_count": null,
            "_view_module_version": "1.2.0",
            "_model_module": "@jupyter-widgets/controls"
          }
        },
        "891f4633216e4e99be8afc4d51031b34": {
          "model_module": "@jupyter-widgets/base",
          "model_name": "LayoutModel",
          "model_module_version": "1.2.0",
          "state": {
            "_view_name": "LayoutView",
            "grid_template_rows": null,
            "right": null,
            "justify_content": null,
            "_view_module": "@jupyter-widgets/base",
            "overflow": null,
            "_model_module_version": "1.2.0",
            "_view_count": null,
            "flex_flow": null,
            "width": null,
            "min_width": null,
            "border": null,
            "align_items": null,
            "bottom": null,
            "_model_module": "@jupyter-widgets/base",
            "top": null,
            "grid_column": null,
            "overflow_y": null,
            "overflow_x": null,
            "grid_auto_flow": null,
            "grid_area": null,
            "grid_template_columns": null,
            "flex": null,
            "_model_name": "LayoutModel",
            "justify_items": null,
            "grid_row": null,
            "max_height": null,
            "align_content": null,
            "visibility": null,
            "align_self": null,
            "height": null,
            "min_height": null,
            "padding": null,
            "grid_auto_rows": null,
            "grid_gap": null,
            "max_width": null,
            "order": null,
            "_view_module_version": "1.2.0",
            "grid_template_areas": null,
            "object_position": null,
            "object_fit": null,
            "grid_auto_columns": null,
            "margin": null,
            "display": null,
            "left": null
          }
        },
        "f7469609d724429cb9fa4e34e037783f": {
          "model_module": "@jupyter-widgets/controls",
          "model_name": "HBoxModel",
          "model_module_version": "1.5.0",
          "state": {
            "_view_name": "HBoxView",
            "_dom_classes": [],
            "_model_name": "HBoxModel",
            "_view_module": "@jupyter-widgets/controls",
            "_model_module_version": "1.5.0",
            "_view_count": null,
            "_view_module_version": "1.5.0",
            "box_style": "",
            "layout": "IPY_MODEL_a92a3bc452324d23ba0027f94c0d4822",
            "_model_module": "@jupyter-widgets/controls",
            "children": [
              "IPY_MODEL_43f72c0b061447b0a064f3fef2ff9585",
              "IPY_MODEL_faf666066bf54bf8aefa1dff2ba37987",
              "IPY_MODEL_b78e6a583c614cc3a6aa697cf0e8fcf0"
            ]
          }
        },
        "a92a3bc452324d23ba0027f94c0d4822": {
          "model_module": "@jupyter-widgets/base",
          "model_name": "LayoutModel",
          "model_module_version": "1.2.0",
          "state": {
            "_view_name": "LayoutView",
            "grid_template_rows": null,
            "right": null,
            "justify_content": null,
            "_view_module": "@jupyter-widgets/base",
            "overflow": null,
            "_model_module_version": "1.2.0",
            "_view_count": null,
            "flex_flow": null,
            "width": null,
            "min_width": null,
            "border": null,
            "align_items": null,
            "bottom": null,
            "_model_module": "@jupyter-widgets/base",
            "top": null,
            "grid_column": null,
            "overflow_y": null,
            "overflow_x": null,
            "grid_auto_flow": null,
            "grid_area": null,
            "grid_template_columns": null,
            "flex": null,
            "_model_name": "LayoutModel",
            "justify_items": null,
            "grid_row": null,
            "max_height": null,
            "align_content": null,
            "visibility": null,
            "align_self": null,
            "height": null,
            "min_height": null,
            "padding": null,
            "grid_auto_rows": null,
            "grid_gap": null,
            "max_width": null,
            "order": null,
            "_view_module_version": "1.2.0",
            "grid_template_areas": null,
            "object_position": null,
            "object_fit": null,
            "grid_auto_columns": null,
            "margin": null,
            "display": null,
            "left": null
          }
        },
        "43f72c0b061447b0a064f3fef2ff9585": {
          "model_module": "@jupyter-widgets/controls",
          "model_name": "HTMLModel",
          "model_module_version": "1.5.0",
          "state": {
            "_view_name": "HTMLView",
            "style": "IPY_MODEL_68a092e358b1455c9325256295cd030e",
            "_dom_classes": [],
            "description": "",
            "_model_name": "HTMLModel",
            "placeholder": "​",
            "_view_module": "@jupyter-widgets/controls",
            "_model_module_version": "1.5.0",
            "value": "100%",
            "_view_count": null,
            "_view_module_version": "1.5.0",
            "description_tooltip": null,
            "_model_module": "@jupyter-widgets/controls",
            "layout": "IPY_MODEL_8f06fcf984014f48b09f80318e2cf46d"
          }
        },
        "faf666066bf54bf8aefa1dff2ba37987": {
          "model_module": "@jupyter-widgets/controls",
          "model_name": "FloatProgressModel",
          "model_module_version": "1.5.0",
          "state": {
            "_view_name": "ProgressView",
            "style": "IPY_MODEL_6932249f4b504465b8f15ab9df9b247d",
            "_dom_classes": [],
            "description": "",
            "_model_name": "FloatProgressModel",
            "bar_style": "success",
            "max": 5623,
            "_view_module": "@jupyter-widgets/controls",
            "_model_module_version": "1.5.0",
            "value": 5623,
            "_view_count": null,
            "_view_module_version": "1.5.0",
            "orientation": "horizontal",
            "min": 0,
            "description_tooltip": null,
            "_model_module": "@jupyter-widgets/controls",
            "layout": "IPY_MODEL_6d86db32c5854a23a7d4ca4dcc2f5573"
          }
        },
        "b78e6a583c614cc3a6aa697cf0e8fcf0": {
          "model_module": "@jupyter-widgets/controls",
          "model_name": "HTMLModel",
          "model_module_version": "1.5.0",
          "state": {
            "_view_name": "HTMLView",
            "style": "IPY_MODEL_9ad88fe96c4d4a74820fb2f1dab08336",
            "_dom_classes": [],
            "description": "",
            "_model_name": "HTMLModel",
            "placeholder": "​",
            "_view_module": "@jupyter-widgets/controls",
            "_model_module_version": "1.5.0",
            "value": " 5623/5623 [34:12&lt;00:00,  3.03it/s]",
            "_view_count": null,
            "_view_module_version": "1.5.0",
            "description_tooltip": null,
            "_model_module": "@jupyter-widgets/controls",
            "layout": "IPY_MODEL_7eae77575b714032b6348053f752fc66"
          }
        },
        "68a092e358b1455c9325256295cd030e": {
          "model_module": "@jupyter-widgets/controls",
          "model_name": "DescriptionStyleModel",
          "model_module_version": "1.5.0",
          "state": {
            "_view_name": "StyleView",
            "_model_name": "DescriptionStyleModel",
            "description_width": "",
            "_view_module": "@jupyter-widgets/base",
            "_model_module_version": "1.5.0",
            "_view_count": null,
            "_view_module_version": "1.2.0",
            "_model_module": "@jupyter-widgets/controls"
          }
        },
        "8f06fcf984014f48b09f80318e2cf46d": {
          "model_module": "@jupyter-widgets/base",
          "model_name": "LayoutModel",
          "model_module_version": "1.2.0",
          "state": {
            "_view_name": "LayoutView",
            "grid_template_rows": null,
            "right": null,
            "justify_content": null,
            "_view_module": "@jupyter-widgets/base",
            "overflow": null,
            "_model_module_version": "1.2.0",
            "_view_count": null,
            "flex_flow": null,
            "width": null,
            "min_width": null,
            "border": null,
            "align_items": null,
            "bottom": null,
            "_model_module": "@jupyter-widgets/base",
            "top": null,
            "grid_column": null,
            "overflow_y": null,
            "overflow_x": null,
            "grid_auto_flow": null,
            "grid_area": null,
            "grid_template_columns": null,
            "flex": null,
            "_model_name": "LayoutModel",
            "justify_items": null,
            "grid_row": null,
            "max_height": null,
            "align_content": null,
            "visibility": null,
            "align_self": null,
            "height": null,
            "min_height": null,
            "padding": null,
            "grid_auto_rows": null,
            "grid_gap": null,
            "max_width": null,
            "order": null,
            "_view_module_version": "1.2.0",
            "grid_template_areas": null,
            "object_position": null,
            "object_fit": null,
            "grid_auto_columns": null,
            "margin": null,
            "display": null,
            "left": null
          }
        },
        "6932249f4b504465b8f15ab9df9b247d": {
          "model_module": "@jupyter-widgets/controls",
          "model_name": "ProgressStyleModel",
          "model_module_version": "1.5.0",
          "state": {
            "_view_name": "StyleView",
            "_model_name": "ProgressStyleModel",
            "description_width": "",
            "_view_module": "@jupyter-widgets/base",
            "_model_module_version": "1.5.0",
            "_view_count": null,
            "_view_module_version": "1.2.0",
            "bar_color": null,
            "_model_module": "@jupyter-widgets/controls"
          }
        },
        "6d86db32c5854a23a7d4ca4dcc2f5573": {
          "model_module": "@jupyter-widgets/base",
          "model_name": "LayoutModel",
          "model_module_version": "1.2.0",
          "state": {
            "_view_name": "LayoutView",
            "grid_template_rows": null,
            "right": null,
            "justify_content": null,
            "_view_module": "@jupyter-widgets/base",
            "overflow": null,
            "_model_module_version": "1.2.0",
            "_view_count": null,
            "flex_flow": null,
            "width": null,
            "min_width": null,
            "border": null,
            "align_items": null,
            "bottom": null,
            "_model_module": "@jupyter-widgets/base",
            "top": null,
            "grid_column": null,
            "overflow_y": null,
            "overflow_x": null,
            "grid_auto_flow": null,
            "grid_area": null,
            "grid_template_columns": null,
            "flex": null,
            "_model_name": "LayoutModel",
            "justify_items": null,
            "grid_row": null,
            "max_height": null,
            "align_content": null,
            "visibility": null,
            "align_self": null,
            "height": null,
            "min_height": null,
            "padding": null,
            "grid_auto_rows": null,
            "grid_gap": null,
            "max_width": null,
            "order": null,
            "_view_module_version": "1.2.0",
            "grid_template_areas": null,
            "object_position": null,
            "object_fit": null,
            "grid_auto_columns": null,
            "margin": null,
            "display": null,
            "left": null
          }
        },
        "9ad88fe96c4d4a74820fb2f1dab08336": {
          "model_module": "@jupyter-widgets/controls",
          "model_name": "DescriptionStyleModel",
          "model_module_version": "1.5.0",
          "state": {
            "_view_name": "StyleView",
            "_model_name": "DescriptionStyleModel",
            "description_width": "",
            "_view_module": "@jupyter-widgets/base",
            "_model_module_version": "1.5.0",
            "_view_count": null,
            "_view_module_version": "1.2.0",
            "_model_module": "@jupyter-widgets/controls"
          }
        },
        "7eae77575b714032b6348053f752fc66": {
          "model_module": "@jupyter-widgets/base",
          "model_name": "LayoutModel",
          "model_module_version": "1.2.0",
          "state": {
            "_view_name": "LayoutView",
            "grid_template_rows": null,
            "right": null,
            "justify_content": null,
            "_view_module": "@jupyter-widgets/base",
            "overflow": null,
            "_model_module_version": "1.2.0",
            "_view_count": null,
            "flex_flow": null,
            "width": null,
            "min_width": null,
            "border": null,
            "align_items": null,
            "bottom": null,
            "_model_module": "@jupyter-widgets/base",
            "top": null,
            "grid_column": null,
            "overflow_y": null,
            "overflow_x": null,
            "grid_auto_flow": null,
            "grid_area": null,
            "grid_template_columns": null,
            "flex": null,
            "_model_name": "LayoutModel",
            "justify_items": null,
            "grid_row": null,
            "max_height": null,
            "align_content": null,
            "visibility": null,
            "align_self": null,
            "height": null,
            "min_height": null,
            "padding": null,
            "grid_auto_rows": null,
            "grid_gap": null,
            "max_width": null,
            "order": null,
            "_view_module_version": "1.2.0",
            "grid_template_areas": null,
            "object_position": null,
            "object_fit": null,
            "grid_auto_columns": null,
            "margin": null,
            "display": null,
            "left": null
          }
        },
        "449351d2e03e4f5185008dfd60fee705": {
          "model_module": "@jupyter-widgets/controls",
          "model_name": "HBoxModel",
          "model_module_version": "1.5.0",
          "state": {
            "_view_name": "HBoxView",
            "_dom_classes": [],
            "_model_name": "HBoxModel",
            "_view_module": "@jupyter-widgets/controls",
            "_model_module_version": "1.5.0",
            "_view_count": null,
            "_view_module_version": "1.5.0",
            "box_style": "",
            "layout": "IPY_MODEL_52e3798639084a4ca79a569e5157caa6",
            "_model_module": "@jupyter-widgets/controls",
            "children": [
              "IPY_MODEL_a7d0383b75a94097bda54d9acf0b70c8",
              "IPY_MODEL_bb99b17a5ba744de8de5226df1c28b9d",
              "IPY_MODEL_efac25f1787948bbb7f01bd771b9af36"
            ]
          }
        },
        "52e3798639084a4ca79a569e5157caa6": {
          "model_module": "@jupyter-widgets/base",
          "model_name": "LayoutModel",
          "model_module_version": "1.2.0",
          "state": {
            "_view_name": "LayoutView",
            "grid_template_rows": null,
            "right": null,
            "justify_content": null,
            "_view_module": "@jupyter-widgets/base",
            "overflow": null,
            "_model_module_version": "1.2.0",
            "_view_count": null,
            "flex_flow": null,
            "width": null,
            "min_width": null,
            "border": null,
            "align_items": null,
            "bottom": null,
            "_model_module": "@jupyter-widgets/base",
            "top": null,
            "grid_column": null,
            "overflow_y": null,
            "overflow_x": null,
            "grid_auto_flow": null,
            "grid_area": null,
            "grid_template_columns": null,
            "flex": null,
            "_model_name": "LayoutModel",
            "justify_items": null,
            "grid_row": null,
            "max_height": null,
            "align_content": null,
            "visibility": null,
            "align_self": null,
            "height": null,
            "min_height": null,
            "padding": null,
            "grid_auto_rows": null,
            "grid_gap": null,
            "max_width": null,
            "order": null,
            "_view_module_version": "1.2.0",
            "grid_template_areas": null,
            "object_position": null,
            "object_fit": null,
            "grid_auto_columns": null,
            "margin": null,
            "display": null,
            "left": null
          }
        },
        "a7d0383b75a94097bda54d9acf0b70c8": {
          "model_module": "@jupyter-widgets/controls",
          "model_name": "HTMLModel",
          "model_module_version": "1.5.0",
          "state": {
            "_view_name": "HTMLView",
            "style": "IPY_MODEL_74cd22f6ba5d4fa7ab7c3609fdcc6525",
            "_dom_classes": [],
            "description": "",
            "_model_name": "HTMLModel",
            "placeholder": "​",
            "_view_module": "@jupyter-widgets/controls",
            "_model_module_version": "1.5.0",
            "value": "100%",
            "_view_count": null,
            "_view_module_version": "1.5.0",
            "description_tooltip": null,
            "_model_module": "@jupyter-widgets/controls",
            "layout": "IPY_MODEL_92227aadb4e549cd88347fb885a3a165"
          }
        },
        "bb99b17a5ba744de8de5226df1c28b9d": {
          "model_module": "@jupyter-widgets/controls",
          "model_name": "FloatProgressModel",
          "model_module_version": "1.5.0",
          "state": {
            "_view_name": "ProgressView",
            "style": "IPY_MODEL_2b295af96fd741d7bd2449e6b126b5e6",
            "_dom_classes": [],
            "description": "",
            "_model_name": "FloatProgressModel",
            "bar_style": "success",
            "max": 200,
            "_view_module": "@jupyter-widgets/controls",
            "_model_module_version": "1.5.0",
            "value": 200,
            "_view_count": null,
            "_view_module_version": "1.5.0",
            "orientation": "horizontal",
            "min": 0,
            "description_tooltip": null,
            "_model_module": "@jupyter-widgets/controls",
            "layout": "IPY_MODEL_c84a88e843cb4f7cb35d5aab4a37b256"
          }
        },
        "efac25f1787948bbb7f01bd771b9af36": {
          "model_module": "@jupyter-widgets/controls",
          "model_name": "HTMLModel",
          "model_module_version": "1.5.0",
          "state": {
            "_view_name": "HTMLView",
            "style": "IPY_MODEL_901fac301e4b47068b9191b3c48f19f2",
            "_dom_classes": [],
            "description": "",
            "_model_name": "HTMLModel",
            "placeholder": "​",
            "_view_module": "@jupyter-widgets/controls",
            "_model_module_version": "1.5.0",
            "value": " 200/200 [49:18&lt;00:00, 14.74s/it]",
            "_view_count": null,
            "_view_module_version": "1.5.0",
            "description_tooltip": null,
            "_model_module": "@jupyter-widgets/controls",
            "layout": "IPY_MODEL_aafe66afd8874488a770c14eda4c148a"
          }
        },
        "74cd22f6ba5d4fa7ab7c3609fdcc6525": {
          "model_module": "@jupyter-widgets/controls",
          "model_name": "DescriptionStyleModel",
          "model_module_version": "1.5.0",
          "state": {
            "_view_name": "StyleView",
            "_model_name": "DescriptionStyleModel",
            "description_width": "",
            "_view_module": "@jupyter-widgets/base",
            "_model_module_version": "1.5.0",
            "_view_count": null,
            "_view_module_version": "1.2.0",
            "_model_module": "@jupyter-widgets/controls"
          }
        },
        "92227aadb4e549cd88347fb885a3a165": {
          "model_module": "@jupyter-widgets/base",
          "model_name": "LayoutModel",
          "model_module_version": "1.2.0",
          "state": {
            "_view_name": "LayoutView",
            "grid_template_rows": null,
            "right": null,
            "justify_content": null,
            "_view_module": "@jupyter-widgets/base",
            "overflow": null,
            "_model_module_version": "1.2.0",
            "_view_count": null,
            "flex_flow": null,
            "width": null,
            "min_width": null,
            "border": null,
            "align_items": null,
            "bottom": null,
            "_model_module": "@jupyter-widgets/base",
            "top": null,
            "grid_column": null,
            "overflow_y": null,
            "overflow_x": null,
            "grid_auto_flow": null,
            "grid_area": null,
            "grid_template_columns": null,
            "flex": null,
            "_model_name": "LayoutModel",
            "justify_items": null,
            "grid_row": null,
            "max_height": null,
            "align_content": null,
            "visibility": null,
            "align_self": null,
            "height": null,
            "min_height": null,
            "padding": null,
            "grid_auto_rows": null,
            "grid_gap": null,
            "max_width": null,
            "order": null,
            "_view_module_version": "1.2.0",
            "grid_template_areas": null,
            "object_position": null,
            "object_fit": null,
            "grid_auto_columns": null,
            "margin": null,
            "display": null,
            "left": null
          }
        },
        "2b295af96fd741d7bd2449e6b126b5e6": {
          "model_module": "@jupyter-widgets/controls",
          "model_name": "ProgressStyleModel",
          "model_module_version": "1.5.0",
          "state": {
            "_view_name": "StyleView",
            "_model_name": "ProgressStyleModel",
            "description_width": "",
            "_view_module": "@jupyter-widgets/base",
            "_model_module_version": "1.5.0",
            "_view_count": null,
            "_view_module_version": "1.2.0",
            "bar_color": null,
            "_model_module": "@jupyter-widgets/controls"
          }
        },
        "c84a88e843cb4f7cb35d5aab4a37b256": {
          "model_module": "@jupyter-widgets/base",
          "model_name": "LayoutModel",
          "model_module_version": "1.2.0",
          "state": {
            "_view_name": "LayoutView",
            "grid_template_rows": null,
            "right": null,
            "justify_content": null,
            "_view_module": "@jupyter-widgets/base",
            "overflow": null,
            "_model_module_version": "1.2.0",
            "_view_count": null,
            "flex_flow": null,
            "width": null,
            "min_width": null,
            "border": null,
            "align_items": null,
            "bottom": null,
            "_model_module": "@jupyter-widgets/base",
            "top": null,
            "grid_column": null,
            "overflow_y": null,
            "overflow_x": null,
            "grid_auto_flow": null,
            "grid_area": null,
            "grid_template_columns": null,
            "flex": null,
            "_model_name": "LayoutModel",
            "justify_items": null,
            "grid_row": null,
            "max_height": null,
            "align_content": null,
            "visibility": null,
            "align_self": null,
            "height": null,
            "min_height": null,
            "padding": null,
            "grid_auto_rows": null,
            "grid_gap": null,
            "max_width": null,
            "order": null,
            "_view_module_version": "1.2.0",
            "grid_template_areas": null,
            "object_position": null,
            "object_fit": null,
            "grid_auto_columns": null,
            "margin": null,
            "display": null,
            "left": null
          }
        },
        "901fac301e4b47068b9191b3c48f19f2": {
          "model_module": "@jupyter-widgets/controls",
          "model_name": "DescriptionStyleModel",
          "model_module_version": "1.5.0",
          "state": {
            "_view_name": "StyleView",
            "_model_name": "DescriptionStyleModel",
            "description_width": "",
            "_view_module": "@jupyter-widgets/base",
            "_model_module_version": "1.5.0",
            "_view_count": null,
            "_view_module_version": "1.2.0",
            "_model_module": "@jupyter-widgets/controls"
          }
        },
        "aafe66afd8874488a770c14eda4c148a": {
          "model_module": "@jupyter-widgets/base",
          "model_name": "LayoutModel",
          "model_module_version": "1.2.0",
          "state": {
            "_view_name": "LayoutView",
            "grid_template_rows": null,
            "right": null,
            "justify_content": null,
            "_view_module": "@jupyter-widgets/base",
            "overflow": null,
            "_model_module_version": "1.2.0",
            "_view_count": null,
            "flex_flow": null,
            "width": null,
            "min_width": null,
            "border": null,
            "align_items": null,
            "bottom": null,
            "_model_module": "@jupyter-widgets/base",
            "top": null,
            "grid_column": null,
            "overflow_y": null,
            "overflow_x": null,
            "grid_auto_flow": null,
            "grid_area": null,
            "grid_template_columns": null,
            "flex": null,
            "_model_name": "LayoutModel",
            "justify_items": null,
            "grid_row": null,
            "max_height": null,
            "align_content": null,
            "visibility": null,
            "align_self": null,
            "height": null,
            "min_height": null,
            "padding": null,
            "grid_auto_rows": null,
            "grid_gap": null,
            "max_width": null,
            "order": null,
            "_view_module_version": "1.2.0",
            "grid_template_areas": null,
            "object_position": null,
            "object_fit": null,
            "grid_auto_columns": null,
            "margin": null,
            "display": null,
            "left": null
          }
        }
      }
    },
    "accelerator": "GPU"
  },
  "cells": [
    {
      "cell_type": "code",
      "metadata": {
        "colab": {
          "base_uri": "https://localhost:8080/"
        },
        "id": "vH7jHPiCHIvI",
        "outputId": "07336dda-c24d-4d11-f4e5-3cdbe92161fd"
      },
      "source": [
        "!pip install klib sentencepiece transformers "
      ],
      "execution_count": 1,
      "outputs": [
        {
          "output_type": "stream",
          "name": "stdout",
          "text": [
            "Collecting klib\n",
            "  Downloading klib-0.2.0-py3-none-any.whl (28 kB)\n",
            "Collecting sentencepiece\n",
            "  Downloading sentencepiece-0.1.96-cp37-cp37m-manylinux_2_17_x86_64.manylinux2014_x86_64.whl (1.2 MB)\n",
            "\u001b[K     |████████████████████████████████| 1.2 MB 6.3 MB/s \n",
            "\u001b[?25hCollecting transformers\n",
            "  Downloading transformers-4.11.3-py3-none-any.whl (2.9 MB)\n",
            "\u001b[K     |████████████████████████████████| 2.9 MB 33.9 MB/s \n",
            "\u001b[?25hRequirement already satisfied: numpy>=1.15.4 in /usr/local/lib/python3.7/dist-packages (from klib) (1.19.5)\n",
            "Requirement already satisfied: pandas>=1.1 in /usr/local/lib/python3.7/dist-packages (from klib) (1.1.5)\n",
            "Requirement already satisfied: matplotlib>=3.0.3 in /usr/local/lib/python3.7/dist-packages (from klib) (3.2.2)\n",
            "Collecting scikit-learn>=0.23\n",
            "  Downloading scikit_learn-1.0-cp37-cp37m-manylinux_2_12_x86_64.manylinux2010_x86_64.whl (23.1 MB)\n",
            "\u001b[K     |████████████████████████████████| 23.1 MB 43.9 MB/s \n",
            "\u001b[?25hRequirement already satisfied: seaborn>=0.11.1 in /usr/local/lib/python3.7/dist-packages (from klib) (0.11.2)\n",
            "Requirement already satisfied: scipy>=1.0.0 in /usr/local/lib/python3.7/dist-packages (from klib) (1.4.1)\n",
            "Requirement already satisfied: cycler>=0.10 in /usr/local/lib/python3.7/dist-packages (from matplotlib>=3.0.3->klib) (0.10.0)\n",
            "Requirement already satisfied: kiwisolver>=1.0.1 in /usr/local/lib/python3.7/dist-packages (from matplotlib>=3.0.3->klib) (1.3.2)\n",
            "Requirement already satisfied: python-dateutil>=2.1 in /usr/local/lib/python3.7/dist-packages (from matplotlib>=3.0.3->klib) (2.8.2)\n",
            "Requirement already satisfied: pyparsing!=2.0.4,!=2.1.2,!=2.1.6,>=2.0.1 in /usr/local/lib/python3.7/dist-packages (from matplotlib>=3.0.3->klib) (2.4.7)\n",
            "Requirement already satisfied: six in /usr/local/lib/python3.7/dist-packages (from cycler>=0.10->matplotlib>=3.0.3->klib) (1.15.0)\n",
            "Requirement already satisfied: pytz>=2017.2 in /usr/local/lib/python3.7/dist-packages (from pandas>=1.1->klib) (2018.9)\n",
            "Requirement already satisfied: joblib>=0.11 in /usr/local/lib/python3.7/dist-packages (from scikit-learn>=0.23->klib) (1.0.1)\n",
            "Collecting threadpoolctl>=2.0.0\n",
            "  Downloading threadpoolctl-3.0.0-py3-none-any.whl (14 kB)\n",
            "Collecting tokenizers<0.11,>=0.10.1\n",
            "  Downloading tokenizers-0.10.3-cp37-cp37m-manylinux_2_5_x86_64.manylinux1_x86_64.manylinux_2_12_x86_64.manylinux2010_x86_64.whl (3.3 MB)\n",
            "\u001b[K     |████████████████████████████████| 3.3 MB 33.5 MB/s \n",
            "\u001b[?25hRequirement already satisfied: regex!=2019.12.17 in /usr/local/lib/python3.7/dist-packages (from transformers) (2019.12.20)\n",
            "Requirement already satisfied: requests in /usr/local/lib/python3.7/dist-packages (from transformers) (2.23.0)\n",
            "Requirement already satisfied: importlib-metadata in /usr/local/lib/python3.7/dist-packages (from transformers) (4.8.1)\n",
            "Requirement already satisfied: filelock in /usr/local/lib/python3.7/dist-packages (from transformers) (3.3.0)\n",
            "Requirement already satisfied: packaging>=20.0 in /usr/local/lib/python3.7/dist-packages (from transformers) (21.0)\n",
            "Collecting pyyaml>=5.1\n",
            "  Downloading PyYAML-6.0-cp37-cp37m-manylinux_2_5_x86_64.manylinux1_x86_64.manylinux_2_12_x86_64.manylinux2010_x86_64.whl (596 kB)\n",
            "\u001b[K     |████████████████████████████████| 596 kB 43.4 MB/s \n",
            "\u001b[?25hCollecting sacremoses\n",
            "  Downloading sacremoses-0.0.46-py3-none-any.whl (895 kB)\n",
            "\u001b[K     |████████████████████████████████| 895 kB 40.4 MB/s \n",
            "\u001b[?25hCollecting huggingface-hub>=0.0.17\n",
            "  Downloading huggingface_hub-0.0.19-py3-none-any.whl (56 kB)\n",
            "\u001b[K     |████████████████████████████████| 56 kB 5.1 MB/s \n",
            "\u001b[?25hRequirement already satisfied: tqdm>=4.27 in /usr/local/lib/python3.7/dist-packages (from transformers) (4.62.3)\n",
            "Requirement already satisfied: typing-extensions in /usr/local/lib/python3.7/dist-packages (from huggingface-hub>=0.0.17->transformers) (3.7.4.3)\n",
            "Requirement already satisfied: zipp>=0.5 in /usr/local/lib/python3.7/dist-packages (from importlib-metadata->transformers) (3.6.0)\n",
            "Requirement already satisfied: chardet<4,>=3.0.2 in /usr/local/lib/python3.7/dist-packages (from requests->transformers) (3.0.4)\n",
            "Requirement already satisfied: urllib3!=1.25.0,!=1.25.1,<1.26,>=1.21.1 in /usr/local/lib/python3.7/dist-packages (from requests->transformers) (1.24.3)\n",
            "Requirement already satisfied: idna<3,>=2.5 in /usr/local/lib/python3.7/dist-packages (from requests->transformers) (2.10)\n",
            "Requirement already satisfied: certifi>=2017.4.17 in /usr/local/lib/python3.7/dist-packages (from requests->transformers) (2021.5.30)\n",
            "Requirement already satisfied: click in /usr/local/lib/python3.7/dist-packages (from sacremoses->transformers) (7.1.2)\n",
            "Installing collected packages: threadpoolctl, pyyaml, tokenizers, scikit-learn, sacremoses, huggingface-hub, transformers, sentencepiece, klib\n",
            "  Attempting uninstall: pyyaml\n",
            "    Found existing installation: PyYAML 3.13\n",
            "    Uninstalling PyYAML-3.13:\n",
            "      Successfully uninstalled PyYAML-3.13\n",
            "  Attempting uninstall: scikit-learn\n",
            "    Found existing installation: scikit-learn 0.22.2.post1\n",
            "    Uninstalling scikit-learn-0.22.2.post1:\n",
            "      Successfully uninstalled scikit-learn-0.22.2.post1\n",
            "Successfully installed huggingface-hub-0.0.19 klib-0.2.0 pyyaml-6.0 sacremoses-0.0.46 scikit-learn-1.0 sentencepiece-0.1.96 threadpoolctl-3.0.0 tokenizers-0.10.3 transformers-4.11.3\n"
          ]
        }
      ]
    },
    {
      "cell_type": "code",
      "metadata": {
        "id": "L-AqhygdayjO"
      },
      "source": [
        "import pandas as pd\n",
        "from sklearn.model_selection import train_test_split\n",
        "import klib\n",
        "from google.colab import drive\n",
        "import matplotlib.pyplot as plt\n",
        "import numpy as np\n",
        "import torch\n",
        "from torch import optim\n",
        "from transformers import AdamW, AutoModelForSeq2SeqLM, AutoTokenizer\n",
        "from transformers import get_linear_schedule_with_warmup\n",
        "from transformers import T5Tokenizer, MT5ForConditionalGeneration\n",
        "from tqdm.notebook import tqdm as tqdm_notebook_\n",
        "from scipy.signal import savgol_filter\n",
        "import random\n",
        "import copy\n",
        "import os"
      ],
      "execution_count": 2,
      "outputs": []
    },
    {
      "cell_type": "code",
      "metadata": {
        "colab": {
          "base_uri": "https://localhost:8080/"
        },
        "id": "B4jpz4I7TSuS",
        "outputId": "6d52e2a9-1227-44be-d07d-0b237f042556"
      },
      "source": [
        "# Mounting the google drive\n",
        "\n",
        "drive.mount('/content/gdrive')"
      ],
      "execution_count": 3,
      "outputs": [
        {
          "output_type": "stream",
          "name": "stdout",
          "text": [
            "Mounted at /content/gdrive\n"
          ]
        }
      ]
    },
    {
      "cell_type": "code",
      "metadata": {
        "colab": {
          "base_uri": "https://localhost:8080/",
          "height": 1000
        },
        "id": "zTXLlF29JzJ9",
        "outputId": "c9f6b552-3a8c-45f3-b1ed-b137e45a1af5"
      },
      "source": [
        "# Upload the 'xnli15.tsv' file to the colab directory before running the cell\n",
        "\n",
        "df = pd.read_csv('xnli15.tsv', sep='\\t')\n",
        "print('Shape of the Dataframe: ', df.shape)\n",
        "display(df.head())"
      ],
      "execution_count": 4,
      "outputs": [
        {
          "output_type": "stream",
          "name": "stdout",
          "text": [
            "Shape of the Dataframe:  (10000, 15)\n"
          ]
        },
        {
          "output_type": "display_data",
          "data": {
            "text/html": [
              "<div>\n",
              "<style scoped>\n",
              "    .dataframe tbody tr th:only-of-type {\n",
              "        vertical-align: middle;\n",
              "    }\n",
              "\n",
              "    .dataframe tbody tr th {\n",
              "        vertical-align: top;\n",
              "    }\n",
              "\n",
              "    .dataframe thead th {\n",
              "        text-align: right;\n",
              "    }\n",
              "</style>\n",
              "<table border=\"1\" class=\"dataframe\">\n",
              "  <thead>\n",
              "    <tr style=\"text-align: right;\">\n",
              "      <th></th>\n",
              "      <th>ar</th>\n",
              "      <th>bg</th>\n",
              "      <th>de</th>\n",
              "      <th>el</th>\n",
              "      <th>en</th>\n",
              "      <th>es</th>\n",
              "      <th>fr</th>\n",
              "      <th>hi</th>\n",
              "      <th>ru</th>\n",
              "      <th>sw</th>\n",
              "      <th>th</th>\n",
              "      <th>tr</th>\n",
              "      <th>ur</th>\n",
              "      <th>vi</th>\n",
              "      <th>zh</th>\n",
              "    </tr>\n",
              "  </thead>\n",
              "  <tbody>\n",
              "    <tr>\n",
              "      <th>0</th>\n",
              "      <td>وقال، ماما، لقد عدت للمنزل.</td>\n",
              "      <td>И той каза: Мамо, у дома съм.</td>\n",
              "      <td>und er hat gesagt, Mama ich bin daheim.</td>\n",
              "      <td>Και είπε, Μαμά, έφτασα στο σπίτι.</td>\n",
              "      <td>And he said, Mama, I'm home.</td>\n",
              "      <td>Y él dijo: Mamá, estoy en casa.</td>\n",
              "      <td>Et il a dit, maman, je suis à la maison.</td>\n",
              "      <td>और उसने कहा, माँ, मैं घर आया हूं।</td>\n",
              "      <td>И он сказал: Мама, я дома.</td>\n",
              "      <td>Naye akasema, Mama, niko nyumbani.</td>\n",
              "      <td>และเขาพูดว่า, ม่าม๊า ผมอยู่บ้าน</td>\n",
              "      <td>Ve Anne, evdeyim dedi.</td>\n",
              "      <td>اور اس نے کہا امّی، میں گھر آگیا ہوں۔</td>\n",
              "      <td>Và anh ấy nói, Mẹ, con đã về nhà.</td>\n",
              "      <td>他说，妈妈，我回来了。</td>\n",
              "    </tr>\n",
              "    <tr>\n",
              "      <th>1</th>\n",
              "      <td>حسنا ، لم أكن أفكر حتى حول ذلك ، لكن كنت محبطا...</td>\n",
              "      <td>Е, аз дори не мислех за това, но бях толкова р...</td>\n",
              "      <td>Nun, daran dachte ich nicht einmal, aber ich w...</td>\n",
              "      <td>Λοιπόν, δεν το σκέφτηκα καν, αλλά ήμουν τόσο α...</td>\n",
              "      <td>Well, I wasn't even thinking about that, but I...</td>\n",
              "      <td>Bien, ni estaba pensando en eso, pero estaba t...</td>\n",
              "      <td>Eh bien, je ne pensais même pas à cela, mais j...</td>\n",
              "      <td>हालांकि मैं इसके बारे में सोच भी नहीं रहा था ल...</td>\n",
              "      <td>Ну, я даже не думал об этом, но я был так разо...</td>\n",
              "      <td>Naam, sikukuwa nafikiri juu ya hilo, lakini ni...</td>\n",
              "      <td>ดี, ฉันไม่ได้คิดอะไรเกี่ยวกับเรื่องนี้, แต่ฉัน...</td>\n",
              "      <td>Pekala, bunu hiç düşünmemiştim ancak kafam çok...</td>\n",
              "      <td>میں اس کے بارے میں نہیں سوچھ رہی تھی ، لیکن می...</td>\n",
              "      <td>Vâng, tôi thậm chí không nghĩ về điều đó, nhưn...</td>\n",
              "      <td>嗯，我根本没想过，但是我很沮丧，最后我又和他说话了。</td>\n",
              "    </tr>\n",
              "    <tr>\n",
              "      <th>2</th>\n",
              "      <td>واعتقدت أن ذلك شرف لي ، ولا يزال ، ولايزال ، ك...</td>\n",
              "      <td>И аз мислех, че това е привилегия, и тя все ощ...</td>\n",
              "      <td>„Und ich dachte, das wäre ein Privileg, und da...</td>\n",
              "      <td>Και σκέφτηκα ότι ήταν ένα προνόμιο, και είναι ...</td>\n",
              "      <td>And I thought that was a privilege, and it's s...</td>\n",
              "      <td>Y pensé que era un privilegio, y todavía es, t...</td>\n",
              "      <td>Et je pensais que c'était un privilège, et ça ...</td>\n",
              "      <td>और मैंने सोचा कि यह एक विशेषाधिकार था, और यह अ...</td>\n",
              "      <td>А я считал это привилегией, и всё-же,  и всё-ж...</td>\n",
              "      <td>Nami nilifikiri kwamba ilikuwa ni fursa, na ba...</td>\n",
              "      <td>และฉันนึกว่านั้นเป็นสิทธิพิเศษและมันยังคงเป็น ...</td>\n",
              "      <td>Ve bunun bir ayrıcalık olduğunu sanıyordum, ve...</td>\n",
              "      <td>اور میں نے سوچا کہ یہ ایک امتیاز تھا، اور یہ ا...</td>\n",
              "      <td>Và tôi nghĩ đó là một đặc ân, và nó vẫn còn, n...</td>\n",
              "      <td>而我当初认为这是一个特权，我现在仍然这样想，我是唯一的922 Ex-O，也是我的AFFC空军...</td>\n",
              "    </tr>\n",
              "    <tr>\n",
              "      <th>3</th>\n",
              "      <td>أخبروني ،إيه، أنه سيتم استدعائي من قبل شاب في ...</td>\n",
              "      <td>Казаха ми, че накрая ще ми се обади човек, за ...</td>\n",
              "      <td>Sie sagten mir, dass ich am Ende von einem Ker...</td>\n",
              "      <td>Μου είπαν ότι, θα έπρεπε να καλέσω έναν άντρα ...</td>\n",
              "      <td>They told me that, uh, that I would be called ...</td>\n",
              "      <td>Me dijeron que, esto... que un tipo me llamarí...</td>\n",
              "      <td>Ils m'ont dit qu'à la fin, on m'amènerait un h...</td>\n",
              "      <td>उन्होंने मुझसे कहा की अंत में एक व्यक्ति से मी...</td>\n",
              "      <td>Они сказали, что меня вызовут , чтобы встретит...</td>\n",
              "      <td>Walinieleza ya kwamba mwishowe ningeitiwa jama...</td>\n",
              "      <td>พวกเขาบอกฉันว่าเขาจะเรียกคน ๆ หนึ่งเข้ามาในตอน...</td>\n",
              "      <td>Sonunda tanışmam için bir adam tarafından çağr...</td>\n",
              "      <td>انہوں نے مجھے بتایا تھا کے آخر میں مجھ سے ملنے...</td>\n",
              "      <td>Họ nói với tôi rằng, ừ, rằng tôi sẽ được gọi b...</td>\n",
              "      <td>他们告诉我，呃，我最后会被叫到一个人那里去见面。</td>\n",
              "    </tr>\n",
              "    <tr>\n",
              "      <th>4</th>\n",
              "      <td>هناك الكثير تستطيع التحدث عنه  وأنا سوف أتاجاو...</td>\n",
              "      <td>Има толкова много, което може да се разкаже за...</td>\n",
              "      <td>Es gibt so viel was ich darüber erzählen könnt...</td>\n",
              "      <td>Υπάρχουν τόσα πολλά που θα μπορούσες να μιλήσε...</td>\n",
              "      <td>There's so much you could talk about on that I...</td>\n",
              "      <td>Hay tanto que se puede decir sobre eso, que se...</td>\n",
              "      <td>Il y a tellement de choses dont vous pourriez ...</td>\n",
              "      <td>इतना है कि आप इसके बारे में बात कर सकते हैं कि...</td>\n",
              "      <td>Об этом можно так много говорить, что я опущу ...</td>\n",
              "      <td>Kuna mengi ambayo unaweza kuzungumzia kuhusu h...</td>\n",
              "      <td>มันมีอีกมากที่คุณสามารถพูดคุยเกี่ยวกับสิ่งนั้น...</td>\n",
              "      <td>Bu konu hakkında söyleyebileceğin çok şey var ...</td>\n",
              "      <td>بہت اتنا ہے کہ آپ اس کے بارے میں بات کر سکتے ہ...</td>\n",
              "      <td>Có rất nhiều điều bạn có thể nói mà tôi sẽ chỉ...</td>\n",
              "      <td>你可以讲的太多了，我就不提了。</td>\n",
              "    </tr>\n",
              "  </tbody>\n",
              "</table>\n",
              "</div>"
            ],
            "text/plain": [
              "                                                  ar  ...                                                 zh\n",
              "0                        وقال، ماما، لقد عدت للمنزل.  ...                                        他说，妈妈，我回来了。\n",
              "1  حسنا ، لم أكن أفكر حتى حول ذلك ، لكن كنت محبطا...  ...                         嗯，我根本没想过，但是我很沮丧，最后我又和他说话了。\n",
              "2  واعتقدت أن ذلك شرف لي ، ولا يزال ، ولايزال ، ك...  ...  而我当初认为这是一个特权，我现在仍然这样想，我是唯一的922 Ex-O，也是我的AFFC空军...\n",
              "3  أخبروني ،إيه، أنه سيتم استدعائي من قبل شاب في ...  ...                           他们告诉我，呃，我最后会被叫到一个人那里去见面。\n",
              "4  هناك الكثير تستطيع التحدث عنه  وأنا سوف أتاجاو...  ...                                    你可以讲的太多了，我就不提了。\n",
              "\n",
              "[5 rows x 15 columns]"
            ]
          },
          "metadata": {}
        }
      ]
    },
    {
      "cell_type": "code",
      "metadata": {
        "colab": {
          "base_uri": "https://localhost:8080/"
        },
        "id": "x0K8D8DQJ_DO",
        "outputId": "3b7dc122-d12a-4298-864a-c64a3ba4399a"
      },
      "source": [
        "# Display the column headers represening each language\n",
        "print(df.columns)"
      ],
      "execution_count": 5,
      "outputs": [
        {
          "output_type": "stream",
          "name": "stdout",
          "text": [
            "Index(['ar', 'bg', 'de', 'el', 'en', 'es', 'fr', 'hi', 'ru', 'sw', 'th', 'tr',\n",
            "       'ur', 'vi', 'zh'],\n",
            "      dtype='object')\n"
          ]
        }
      ]
    },
    {
      "cell_type": "code",
      "metadata": {
        "id": "idb2gFRHKO4X",
        "colab": {
          "base_uri": "https://localhost:8080/",
          "height": 419
        },
        "outputId": "09ee769e-e86c-4806-b0ca-bfe73e42ad80"
      },
      "source": [
        "# Modify the structure of the dataframe for the required downstream task\n",
        "data_prep = [] \n",
        "for col in df.columns:\n",
        "  for row in df[col]:\n",
        "    data_prep.append([row, col])\n",
        "\n",
        "dataframe = pd.DataFrame(data_prep, columns=['input_text','target_text'])\n",
        "display(dataframe)\n"
      ],
      "execution_count": 6,
      "outputs": [
        {
          "output_type": "display_data",
          "data": {
            "text/html": [
              "<div>\n",
              "<style scoped>\n",
              "    .dataframe tbody tr th:only-of-type {\n",
              "        vertical-align: middle;\n",
              "    }\n",
              "\n",
              "    .dataframe tbody tr th {\n",
              "        vertical-align: top;\n",
              "    }\n",
              "\n",
              "    .dataframe thead th {\n",
              "        text-align: right;\n",
              "    }\n",
              "</style>\n",
              "<table border=\"1\" class=\"dataframe\">\n",
              "  <thead>\n",
              "    <tr style=\"text-align: right;\">\n",
              "      <th></th>\n",
              "      <th>input_text</th>\n",
              "      <th>target_text</th>\n",
              "    </tr>\n",
              "  </thead>\n",
              "  <tbody>\n",
              "    <tr>\n",
              "      <th>0</th>\n",
              "      <td>وقال، ماما، لقد عدت للمنزل.</td>\n",
              "      <td>ar</td>\n",
              "    </tr>\n",
              "    <tr>\n",
              "      <th>1</th>\n",
              "      <td>حسنا ، لم أكن أفكر حتى حول ذلك ، لكن كنت محبطا...</td>\n",
              "      <td>ar</td>\n",
              "    </tr>\n",
              "    <tr>\n",
              "      <th>2</th>\n",
              "      <td>واعتقدت أن ذلك شرف لي ، ولا يزال ، ولايزال ، ك...</td>\n",
              "      <td>ar</td>\n",
              "    </tr>\n",
              "    <tr>\n",
              "      <th>3</th>\n",
              "      <td>أخبروني ،إيه، أنه سيتم استدعائي من قبل شاب في ...</td>\n",
              "      <td>ar</td>\n",
              "    </tr>\n",
              "    <tr>\n",
              "      <th>4</th>\n",
              "      <td>هناك الكثير تستطيع التحدث عنه  وأنا سوف أتاجاو...</td>\n",
              "      <td>ar</td>\n",
              "    </tr>\n",
              "    <tr>\n",
              "      <th>...</th>\n",
              "      <td>...</td>\n",
              "      <td>...</td>\n",
              "    </tr>\n",
              "    <tr>\n",
              "      <th>149995</th>\n",
              "      <td>戴维森不应该以骨头和烤饼听起来一样的方式说话。</td>\n",
              "      <td>zh</td>\n",
              "    </tr>\n",
              "    <tr>\n",
              "      <th>149996</th>\n",
              "      <td>如果戴维森押韵饼和骨头的话, 那就更好了。</td>\n",
              "      <td>zh</td>\n",
              "    </tr>\n",
              "    <tr>\n",
              "      <th>149997</th>\n",
              "      <td>价值25美元的20万字小说价格合理。</td>\n",
              "      <td>zh</td>\n",
              "    </tr>\n",
              "    <tr>\n",
              "      <th>149998</th>\n",
              "      <td>25美元的20万字的小说就是每美元4,000字。</td>\n",
              "      <td>zh</td>\n",
              "    </tr>\n",
              "    <tr>\n",
              "      <th>149999</th>\n",
              "      <td>25美元的20万字的小说相当于每美元8000个字。</td>\n",
              "      <td>zh</td>\n",
              "    </tr>\n",
              "  </tbody>\n",
              "</table>\n",
              "<p>150000 rows × 2 columns</p>\n",
              "</div>"
            ],
            "text/plain": [
              "                                               input_text target_text\n",
              "0                             وقال، ماما، لقد عدت للمنزل.          ar\n",
              "1       حسنا ، لم أكن أفكر حتى حول ذلك ، لكن كنت محبطا...          ar\n",
              "2       واعتقدت أن ذلك شرف لي ، ولا يزال ، ولايزال ، ك...          ar\n",
              "3       أخبروني ،إيه، أنه سيتم استدعائي من قبل شاب في ...          ar\n",
              "4       هناك الكثير تستطيع التحدث عنه  وأنا سوف أتاجاو...          ar\n",
              "...                                                   ...         ...\n",
              "149995                            戴维森不应该以骨头和烤饼听起来一样的方式说话。          zh\n",
              "149996                              如果戴维森押韵饼和骨头的话, 那就更好了。          zh\n",
              "149997                                 价值25美元的20万字小说价格合理。          zh\n",
              "149998                           25美元的20万字的小说就是每美元4,000字。          zh\n",
              "149999                          25美元的20万字的小说相当于每美元8000个字。          zh\n",
              "\n",
              "[150000 rows x 2 columns]"
            ]
          },
          "metadata": {}
        }
      ]
    },
    {
      "cell_type": "code",
      "metadata": {
        "colab": {
          "base_uri": "https://localhost:8080/"
        },
        "id": "Ujq9hbWrfpRQ",
        "outputId": "eeee5f23-27b6-4de8-d960-db346a1ad4b7"
      },
      "source": [
        "# Data cleaning \n",
        "dataframe=klib.data_cleaning(dataframe)\n",
        "dataframe=dataframe.drop_duplicates(subset='input_text', keep=False)\n"
      ],
      "execution_count": 7,
      "outputs": [
        {
          "output_type": "stream",
          "name": "stdout",
          "text": [
            "Shape of cleaned data: (149935, 2)Remaining NAs: 0\n",
            "\n",
            "Changes:\n",
            "Dropped rows: 65\n",
            "     of which 65 duplicates. (Rows: [6857, 7729, 9884, 12718, 13918, 15238, 16857, 23871, 24239, 33918, 46857, 52305, 55046, 58715, 59687, 61237, 62324, 63918, 65271, 72853, 73873, 75977, 78367, 85271, 92321, 95238, 98105, 103393, 103871, 109555, 116857, 116878, 119674, 121001, 121144, 121204, 121224, 121269, 121366, 121371, 121382, 121487, 121678, 121933, 121943, 121978, 122000, 122139, 122199, 122321, 122420, 122475, 124419, 125471, 125845, 125860, 128946, 130755, 132988, 133918, 137847, 143683, 145271, 145673, 146857])\n",
            "Dropped columns: 0\n",
            "     of which 0 single valued.     Columns: []\n",
            "Dropped missing values: 0\n",
            "Reduced memory by at least: 1.0 MB (-43.67%)\n",
            "\n"
          ]
        }
      ]
    },
    {
      "cell_type": "code",
      "metadata": {
        "colab": {
          "base_uri": "https://localhost:8080/",
          "height": 419
        },
        "id": "vTRQepiWs63g",
        "outputId": "c5635c14-dd9a-4ed2-aae6-e890608041cf"
      },
      "source": [
        "# Adding prefix text to the input, which helps the model to understand the fine-tuning task objective\n",
        "dataframe['input_text'] = '<idf.lang> '+dataframe['input_text'] \n",
        "display(dataframe)"
      ],
      "execution_count": 8,
      "outputs": [
        {
          "output_type": "display_data",
          "data": {
            "text/html": [
              "<div>\n",
              "<style scoped>\n",
              "    .dataframe tbody tr th:only-of-type {\n",
              "        vertical-align: middle;\n",
              "    }\n",
              "\n",
              "    .dataframe tbody tr th {\n",
              "        vertical-align: top;\n",
              "    }\n",
              "\n",
              "    .dataframe thead th {\n",
              "        text-align: right;\n",
              "    }\n",
              "</style>\n",
              "<table border=\"1\" class=\"dataframe\">\n",
              "  <thead>\n",
              "    <tr style=\"text-align: right;\">\n",
              "      <th></th>\n",
              "      <th>input_text</th>\n",
              "      <th>target_text</th>\n",
              "    </tr>\n",
              "  </thead>\n",
              "  <tbody>\n",
              "    <tr>\n",
              "      <th>0</th>\n",
              "      <td>&lt;idf.lang&gt; وقال، ماما، لقد عدت للمنزل.</td>\n",
              "      <td>ar</td>\n",
              "    </tr>\n",
              "    <tr>\n",
              "      <th>1</th>\n",
              "      <td>&lt;idf.lang&gt; حسنا ، لم أكن أفكر حتى حول ذلك ، لك...</td>\n",
              "      <td>ar</td>\n",
              "    </tr>\n",
              "    <tr>\n",
              "      <th>2</th>\n",
              "      <td>&lt;idf.lang&gt; واعتقدت أن ذلك شرف لي ، ولا يزال ، ...</td>\n",
              "      <td>ar</td>\n",
              "    </tr>\n",
              "    <tr>\n",
              "      <th>3</th>\n",
              "      <td>&lt;idf.lang&gt; أخبروني ،إيه، أنه سيتم استدعائي من ...</td>\n",
              "      <td>ar</td>\n",
              "    </tr>\n",
              "    <tr>\n",
              "      <th>4</th>\n",
              "      <td>&lt;idf.lang&gt; هناك الكثير تستطيع التحدث عنه  وأنا...</td>\n",
              "      <td>ar</td>\n",
              "    </tr>\n",
              "    <tr>\n",
              "      <th>...</th>\n",
              "      <td>...</td>\n",
              "      <td>...</td>\n",
              "    </tr>\n",
              "    <tr>\n",
              "      <th>149930</th>\n",
              "      <td>&lt;idf.lang&gt; 戴维森不应该以骨头和烤饼听起来一样的方式说话。</td>\n",
              "      <td>zh</td>\n",
              "    </tr>\n",
              "    <tr>\n",
              "      <th>149931</th>\n",
              "      <td>&lt;idf.lang&gt; 如果戴维森押韵饼和骨头的话, 那就更好了。</td>\n",
              "      <td>zh</td>\n",
              "    </tr>\n",
              "    <tr>\n",
              "      <th>149932</th>\n",
              "      <td>&lt;idf.lang&gt; 价值25美元的20万字小说价格合理。</td>\n",
              "      <td>zh</td>\n",
              "    </tr>\n",
              "    <tr>\n",
              "      <th>149933</th>\n",
              "      <td>&lt;idf.lang&gt; 25美元的20万字的小说就是每美元4,000字。</td>\n",
              "      <td>zh</td>\n",
              "    </tr>\n",
              "    <tr>\n",
              "      <th>149934</th>\n",
              "      <td>&lt;idf.lang&gt; 25美元的20万字的小说相当于每美元8000个字。</td>\n",
              "      <td>zh</td>\n",
              "    </tr>\n",
              "  </tbody>\n",
              "</table>\n",
              "<p>149834 rows × 2 columns</p>\n",
              "</div>"
            ],
            "text/plain": [
              "                                               input_text target_text\n",
              "0                  <idf.lang> وقال، ماما، لقد عدت للمنزل.          ar\n",
              "1       <idf.lang> حسنا ، لم أكن أفكر حتى حول ذلك ، لك...          ar\n",
              "2       <idf.lang> واعتقدت أن ذلك شرف لي ، ولا يزال ، ...          ar\n",
              "3       <idf.lang> أخبروني ،إيه، أنه سيتم استدعائي من ...          ar\n",
              "4       <idf.lang> هناك الكثير تستطيع التحدث عنه  وأنا...          ar\n",
              "...                                                   ...         ...\n",
              "149930                 <idf.lang> 戴维森不应该以骨头和烤饼听起来一样的方式说话。          zh\n",
              "149931                   <idf.lang> 如果戴维森押韵饼和骨头的话, 那就更好了。          zh\n",
              "149932                      <idf.lang> 价值25美元的20万字小说价格合理。          zh\n",
              "149933                <idf.lang> 25美元的20万字的小说就是每美元4,000字。          zh\n",
              "149934               <idf.lang> 25美元的20万字的小说相当于每美元8000个字。          zh\n",
              "\n",
              "[149834 rows x 2 columns]"
            ]
          },
          "metadata": {}
        }
      ]
    },
    {
      "cell_type": "code",
      "metadata": {
        "colab": {
          "base_uri": "https://localhost:8080/",
          "height": 282
        },
        "id": "xzwR0EgeZYOe",
        "outputId": "4f9e0fae-6675-4328-dd43-ac7572371314"
      },
      "source": [
        "# Visualizing the distribution of the examples in each language\n",
        "dataframe['target_text'].hist()"
      ],
      "execution_count": 9,
      "outputs": [
        {
          "output_type": "execute_result",
          "data": {
            "text/plain": [
              "<matplotlib.axes._subplots.AxesSubplot at 0x7fc1a0a38110>"
            ]
          },
          "metadata": {},
          "execution_count": 9
        },
        {
          "output_type": "display_data",
          "data": {
            "image/png": "[encoded data removed]",
            "text/plain": [
              "<Figure size 432x288 with 1 Axes>"
            ]
          },
          "metadata": {
            "needs_background": "light"
          }
        }
      ]
    },
    {
      "cell_type": "code",
      "metadata": {
        "colab": {
          "base_uri": "https://localhost:8080/"
        },
        "id": "gBrVyPul8ZOd",
        "outputId": "9c7d8903-d1fb-44a4-c751-4fe6c3d68393"
      },
      "source": [
        "# Splitting the dataset into train, validation, and test\n",
        "train_val_df, test_df = train_test_split(dataframe, test_size=0.21, random_state=42)\n",
        "train_df, eval_df = train_test_split(train_val_df, test_size=0.24, random_state=42)\n",
        "print('Training dataset shape: ', train_df.shape)\n",
        "print('Validation dataset shape: ', eval_df.shape)\n",
        "print('Testing dataset shape: ', test_df.shape)\n"
      ],
      "execution_count": 70,
      "outputs": [
        {
          "output_type": "stream",
          "name": "stdout",
          "text": [
            "Training dataset shape:  (89959, 2)\n",
            "Validation dataset shape:  (28409, 2)\n",
            "Testing dataset shape:  (31466, 2)\n"
          ]
        }
      ]
    },
    {
      "cell_type": "code",
      "metadata": {
        "id": "PuqbK6u1Tyg6"
      },
      "source": [
        "model_repo = 'google/mt5-small'\n",
        "model_path = '/content/gdrive/My Drive/fine-tuned_mt5/'\n",
        "if not os.path.exists(model_path):\n",
        "  os.mkdir(model_path)"
      ],
      "execution_count": 11,
      "outputs": []
    },
    {
      "cell_type": "code",
      "metadata": {
        "id": "5t9oG6eNiZOd",
        "colab": {
          "base_uri": "https://localhost:8080/",
          "height": 177,
          "referenced_widgets": [
            "762491f3ae024b97ad37d5088f99c7bd",
            "d5dccbce650d46b28a83c96f427856b1",
            "1f9e16fd1e9b4a2bb665e3388ca9db75",
            "67fe0f0748b34a8da930b755a0e09d7c",
            "f82ab413a56a4c838f46da1535073a09",
            "0585dbc2f7f247cdb0b57392a6c8615b",
            "3f6fa714ffe94dbcbb9b3dd960373649",
            "0c2dfe17ec4443108f45f132e56d2ec1",
            "f7150fed353c4f7fba5699a108dc9bd5",
            "57a16792546d48389c9cd91c5029e075",
            "f745527c724943e18746e6077f457278",
            "263820c7a7504d7b8f8b42cae5f58767",
            "a922dea4c5ab4c52b4933321b4589a7f",
            "8acad4d756b141fdbbbe891f2ff6edfa",
            "0e66002237564da8a091e4ebdfb10fe9",
            "89f2997f211446a2b1221d59be544535",
            "b83413d155b54010a44624702b0ce5e6",
            "5d0e83d88be84754bd59c92d33247ede",
            "cba86b5e2ac249e880f2e4a6a37a2743",
            "bcf7746675f44d2dbca25824933580ec",
            "53fd47ceca204ae0b8d5d361399dacc9",
            "b98e07e2eaaa40cf97300cd393735280",
            "236e25a0c23e4507b34b1a1ab8220485",
            "cdbfb5dc737f452aa0d1a682a7585001",
            "30cb06186c9c4bda8c074bf5b1b583ae",
            "e759c7954604414aa0236ed20f3e6691",
            "a0bacf15da614a4694917a770fefb5c0",
            "8e4ffcab1b6948b4b57637bd278cb397",
            "4c9830f8965b41d1b70ce7b74985d3a3",
            "61b0f15044dc48f6a91771c6e433c926",
            "dfcc026e43cb48bb95f734bca20d9a10",
            "773bc44fa5634a6cb1af19a6696d7d4c",
            "2a0aac6fe579471d8e8e836e1e67ce87",
            "1badc4828f4a4916aada0f52aeaadf36",
            "1c716ce7f0f94eb7bb5a158fc86e2049",
            "f030324ef3ef4123a470da2dbd64facf",
            "cb58874a2aad4351b9075a5e4eaa3bb0",
            "054eef58587643ea85aa8a7a4f7e1746",
            "cf2ed10e068b4ea98814d0ff8fc5f7b4",
            "c716f649211444988384a37b769b56cf",
            "9fa2c87853d440fe9835358e17f1d5b1",
            "ceaa1fc0f8534f1ebab0bc80bf9d52e4",
            "33f13a6fdf034dbaa1b5589912c87d1e",
            "336c96ca99294389ae6d6f7f7dc223aa",
            "c27ea12e2f7940bb88d85964ea0377f1",
            "806c895305e04183998d31166207ab8b",
            "e0f40d8c0078454589d4b68b2c1f6353",
            "d9bf5cf6830042c6a7ef36ad003903f9",
            "4f798e725d1e4d8fa3f2620f9aa178e9",
            "5e965f4fe06e4d2daa9fcf704b1a538c",
            "986569b89096409ebd07e7c745f433dd",
            "5cc5eb18fc8f40538bb878b3684e6ad3",
            "e2287e70cbfb42b1b735734a2ed7a6d0",
            "8ec4781f94624f30af833a01384d5493",
            "891f4633216e4e99be8afc4d51031b34"
          ]
        },
        "outputId": "3cc59d93-b5c8-4a72-d61f-681f19c4297a"
      },
      "source": [
        "# Loading the tokenizer and the model\n",
        "tokenizer = AutoTokenizer.from_pretrained(model_repo)\n",
        "model = MT5ForConditionalGeneration.from_pretrained(model_repo)\n",
        "model = model.cuda()"
      ],
      "execution_count": 12,
      "outputs": [
        {
          "output_type": "display_data",
          "data": {
            "application/vnd.jupyter.widget-view+json": {
              "model_id": "762491f3ae024b97ad37d5088f99c7bd",
              "version_minor": 0,
              "version_major": 2
            },
            "text/plain": [
              "Downloading:   0%|          | 0.00/82.0 [00:00<?, ?B/s]"
            ]
          },
          "metadata": {}
        },
        {
          "output_type": "display_data",
          "data": {
            "application/vnd.jupyter.widget-view+json": {
              "model_id": "263820c7a7504d7b8f8b42cae5f58767",
              "version_minor": 0,
              "version_major": 2
            },
            "text/plain": [
              "Downloading:   0%|          | 0.00/553 [00:00<?, ?B/s]"
            ]
          },
          "metadata": {}
        },
        {
          "output_type": "display_data",
          "data": {
            "application/vnd.jupyter.widget-view+json": {
              "model_id": "236e25a0c23e4507b34b1a1ab8220485",
              "version_minor": 0,
              "version_major": 2
            },
            "text/plain": [
              "Downloading:   0%|          | 0.00/4.11M [00:00<?, ?B/s]"
            ]
          },
          "metadata": {}
        },
        {
          "output_type": "display_data",
          "data": {
            "application/vnd.jupyter.widget-view+json": {
              "model_id": "1badc4828f4a4916aada0f52aeaadf36",
              "version_minor": 0,
              "version_major": 2
            },
            "text/plain": [
              "Downloading:   0%|          | 0.00/99.0 [00:00<?, ?B/s]"
            ]
          },
          "metadata": {}
        },
        {
          "output_type": "display_data",
          "data": {
            "application/vnd.jupyter.widget-view+json": {
              "model_id": "c27ea12e2f7940bb88d85964ea0377f1",
              "version_minor": 0,
              "version_major": 2
            },
            "text/plain": [
              "Downloading:   0%|          | 0.00/1.12G [00:00<?, ?B/s]"
            ]
          },
          "metadata": {}
        }
      ]
    },
    {
      "cell_type": "code",
      "metadata": {
        "colab": {
          "base_uri": "https://localhost:8080/"
        },
        "id": "6_8t0gdmUZCB",
        "outputId": "a3f2252c-f4dd-41f8-a8b0-384a323da1e2"
      },
      "source": [
        "len(tokenizer.vocab)"
      ],
      "execution_count": 13,
      "outputs": [
        {
          "output_type": "execute_result",
          "data": {
            "text/plain": [
              "250100"
            ]
          },
          "metadata": {},
          "execution_count": 13
        }
      ]
    },
    {
      "cell_type": "code",
      "metadata": {
        "colab": {
          "base_uri": "https://localhost:8080/"
        },
        "id": "UXDmVLqUWyqB",
        "outputId": "1ed51458-63ea-4534-dbfe-e3165c1a729f"
      },
      "source": [
        "print(model.config.max_length)"
      ],
      "execution_count": 14,
      "outputs": [
        {
          "output_type": "stream",
          "name": "stdout",
          "text": [
            "20\n"
          ]
        }
      ]
    },
    {
      "cell_type": "code",
      "metadata": {
        "colab": {
          "base_uri": "https://localhost:8080/"
        },
        "id": "88XY_99NYhmJ",
        "outputId": "a0969a27-186f-4290-8ae4-339a73d452a6"
      },
      "source": [
        "# Adding the prefix <idf.lang> as a special token\n",
        "LANG_TOKEN_MAPPING = {\n",
        "    'identify language': '<idf.lang>'\n",
        "}\n",
        "special_tokens_dict = {'additional_special_tokens': list(LANG_TOKEN_MAPPING.values())}\n",
        "special_tokens_dict"
      ],
      "execution_count": 15,
      "outputs": [
        {
          "output_type": "execute_result",
          "data": {
            "text/plain": [
              "{'additional_special_tokens': ['<idf.lang>']}"
            ]
          },
          "metadata": {},
          "execution_count": 15
        }
      ]
    },
    {
      "cell_type": "code",
      "metadata": {
        "colab": {
          "base_uri": "https://localhost:8080/"
        },
        "id": "AK5B07SjZB64",
        "outputId": "163f9bd1-e744-41d5-f8e1-367908b890ec"
      },
      "source": [
        "# Adding the special tokens to the tokenizer\n",
        "tokenizer.add_special_tokens(special_tokens_dict)"
      ],
      "execution_count": 16,
      "outputs": [
        {
          "output_type": "execute_result",
          "data": {
            "text/plain": [
              "1"
            ]
          },
          "metadata": {},
          "execution_count": 16
        }
      ]
    },
    {
      "cell_type": "code",
      "metadata": {
        "colab": {
          "base_uri": "https://localhost:8080/"
        },
        "id": "AM1E8FogaIaJ",
        "outputId": "547605f9-037a-443d-9432-7b1e1f50af65"
      },
      "source": [
        "len(tokenizer)"
      ],
      "execution_count": 17,
      "outputs": [
        {
          "output_type": "execute_result",
          "data": {
            "text/plain": [
              "250101"
            ]
          },
          "metadata": {},
          "execution_count": 17
        }
      ]
    },
    {
      "cell_type": "code",
      "metadata": {
        "colab": {
          "base_uri": "https://localhost:8080/"
        },
        "id": "pwVuu0-maM_H",
        "outputId": "65e93398-8101-462f-e322-da1659429e20"
      },
      "source": [
        "# display all special tokens\n",
        "tokenizer.all_special_tokens"
      ],
      "execution_count": 18,
      "outputs": [
        {
          "output_type": "execute_result",
          "data": {
            "text/plain": [
              "['</s>', '<unk>', '<pad>', '<idf.lang>']"
            ]
          },
          "metadata": {},
          "execution_count": 18
        }
      ]
    },
    {
      "cell_type": "code",
      "metadata": {
        "colab": {
          "base_uri": "https://localhost:8080/"
        },
        "id": "FyR2vk58aP0n",
        "outputId": "1315f4a4-bb3f-47e9-9b78-7fd0b0752c5a"
      },
      "source": [
        "model.config.vocab_size"
      ],
      "execution_count": 19,
      "outputs": [
        {
          "output_type": "execute_result",
          "data": {
            "text/plain": [
              "250112"
            ]
          },
          "metadata": {},
          "execution_count": 19
        }
      ]
    },
    {
      "cell_type": "code",
      "metadata": {
        "colab": {
          "base_uri": "https://localhost:8080/"
        },
        "id": "HMPjGf9XacoX",
        "outputId": "f3484308-02d8-4566-83bf-0fac08f4d69e"
      },
      "source": [
        "# resize the input token embeddings of the model if len(tokenizer) != model.config.vocab_size\n",
        "model.resize_token_embeddings(len(tokenizer))"
      ],
      "execution_count": 20,
      "outputs": [
        {
          "output_type": "execute_result",
          "data": {
            "text/plain": [
              "Embedding(250101, 512)"
            ]
          },
          "metadata": {},
          "execution_count": 20
        }
      ]
    },
    {
      "cell_type": "markdown",
      "metadata": {
        "id": "k1K4SOLyci7_"
      },
      "source": [
        "**Encode Inputs**"
      ]
    },
    {
      "cell_type": "code",
      "metadata": {
        "colab": {
          "base_uri": "https://localhost:8080/",
          "height": 658
        },
        "id": "VrBAEyRTiBX4",
        "outputId": "585057e5-fe07-492b-925f-01563df55aae"
      },
      "source": [
        "# This cell encodes all the entries in the dataset to plot the token lengths histogram of \n",
        "# i/p and o/p texts, and hence execution will be little bit time consuming.\n",
        "\n",
        "# The maximun input and output token lengths of the model are task-specific.\n",
        "# Given the dataset, analyze the required token lengths for fine-tuning.\n",
        "\n",
        "token_len = []\n",
        "\n",
        "for row in dataframe['input_text']:\n",
        "  input_ids = tokenizer.encode(row, return_tensors='pt').cuda()\n",
        "  token_len.append(len(input_ids[0]))\n",
        "\n",
        "token_len.sort(reverse=True)\n",
        "\n",
        "plt.figure(figsize=(6, 4),tight_layout=True, dpi=80)\n",
        "plt.hist(token_len)\n",
        "plt.xlabel('input token ids length')\n",
        "plt.ylabel('frequency')\n",
        "# plt.savefig('/content/gdrive/My Drive/ip_tokens_len.jpg')\n",
        "\n",
        "\n",
        "label_len = []\n",
        "\n",
        "for row in dataframe['target_text']:\n",
        "  input_ids = tokenizer.encode(row, return_tensors='pt').cuda()\n",
        "  label_len.append(len(input_ids[0]))\n",
        "  \n",
        "\n",
        "label_len.sort(reverse=True)\n",
        "\n",
        "plt.figure(figsize=(6, 4),tight_layout=True, dpi=80)\n",
        "plt.hist(label_len)\n",
        "plt.xlabel('target token ids length')\n",
        "plt.ylabel('frequency')\n",
        "# plt.savefig('/content/gdrive/My Drive/op_tokens_len.jpg')"
      ],
      "execution_count": 21,
      "outputs": [
        {
          "output_type": "execute_result",
          "data": {
            "text/plain": [
              "Text(0, 0.5, 'frequency')"
            ]
          },
          "metadata": {},
          "execution_count": 21
        },
        {
          "output_type": "display_data",
          "data": {
            "image/png": "[encoded data removed]",
            "text/plain": [
              "<Figure size 480x320 with 1 Axes>"
            ]
          },
          "metadata": {
            "needs_background": "light"
          }
        },
        {
          "output_type": "display_data",
          "data": {
            "image/png": "[encoded data removed]",
            "text/plain": [
              "<Figure size 480x320 with 1 Axes>"
            ]
          },
          "metadata": {
            "needs_background": "light"
          }
        }
      ]
    },
    {
      "cell_type": "code",
      "metadata": {
        "id": "TbZAem0ruS-V"
      },
      "source": [
        "# Large input sequence length makes the training computationally very intensive\n",
        "# Choose a decent value by analyzing the histogram above\n",
        "max_inp_seq_len = 40\n",
        "max_tar_seq_len = 3"
      ],
      "execution_count": 22,
      "outputs": []
    },
    {
      "cell_type": "code",
      "metadata": {
        "id": "x6CMhaDFctf1"
      },
      "source": [
        "# function to encode a given string and return token ids\n",
        "\n",
        "def encode_str(text, tokenizer, seq_len):  \n",
        "  \"\"\" Tokenize, pad to max length and encode to ids \n",
        "      Returns tensor with token ids \"\"\"\n",
        "  input_ids = tokenizer.encode(\n",
        "      text=text,\n",
        "      return_tensors = 'pt',\n",
        "      padding = 'max_length',\n",
        "      truncation = True,\n",
        "      max_length = seq_len)\n",
        "\n",
        "  return input_ids[0]"
      ],
      "execution_count": 23,
      "outputs": []
    },
    {
      "cell_type": "code",
      "metadata": {
        "colab": {
          "base_uri": "https://localhost:8080/"
        },
        "id": "YfWKQuQWcvM_",
        "outputId": "0cd842ca-3fbe-4561-954a-c45e0af111dd"
      },
      "source": [
        "# Testing the encode_str function\n",
        "\n",
        "print(train_df['input_text'].iloc[0])\n",
        "t1 = encode_str(train_df['input_text'].iloc[0],tokenizer,max_inp_seq_len)\n",
        "print(t1)\n",
        "tokens = tokenizer.convert_ids_to_tokens(t1)\n",
        "print(tokens)"
      ],
      "execution_count": 24,
      "outputs": [
        {
          "output_type": "stream",
          "name": "stdout",
          "text": [
            "<idf.lang> woh apney talib e ilmon k lye madadgar tha.\n",
            "tensor([250100, 119384,    259,  39041,    276,  26231,    316,    259,    265,\n",
            "           386,   5710,    408,    259,    484,    265,  71472,    285,   2263,\n",
            "          6848,    260,      1,      0,      0,      0,      0,      0,      0,\n",
            "             0,      0,      0,      0,      0,      0,      0,      0,      0,\n",
            "             0,      0,      0,      0])\n",
            "['<idf.lang>', '▁woh', '▁', 'apne', 'y', '▁tali', 'b', '▁', 'e', '▁il', 'mon', '▁k', '▁', 'ly', 'e', '▁mada', 'd', 'gar', '▁tha', '.', '</s>', '<pad>', '<pad>', '<pad>', '<pad>', '<pad>', '<pad>', '<pad>', '<pad>', '<pad>', '<pad>', '<pad>', '<pad>', '<pad>', '<pad>', '<pad>', '<pad>', '<pad>', '<pad>', '<pad>']\n"
          ]
        }
      ]
    },
    {
      "cell_type": "code",
      "metadata": {
        "colab": {
          "base_uri": "https://localhost:8080/"
        },
        "id": "-TnHuP7CjH01",
        "outputId": "cca349e9-0e05-4a03-bf83-d57a4a3fac8d"
      },
      "source": [
        "# Visualizing how the target texts are tokenized\n",
        "\n",
        "uniq_lab = dataframe['target_text'].unique()\n",
        "for uni in uniq_lab:\n",
        "  t1 = encode_str(uni,tokenizer,max_tar_seq_len)\n",
        "  tokens = tokenizer.convert_ids_to_tokens(t1)\n",
        "  print('Input ID: ',t1,', Tokens: ', tokens,', Decoded text: ',tokenizer.decode(t1))"
      ],
      "execution_count": 25,
      "outputs": [
        {
          "output_type": "stream",
          "name": "stdout",
          "text": [
            "Input ID:  tensor([798,   1,   0]) , Tokens:  ['▁ar', '</s>', '<pad>'] , Decoded text:  ar</s><pad>\n",
            "Input ID:  tensor([ 259, 5979,    1]) , Tokens:  ['▁', 'bg', '</s>'] , Decoded text:  bg</s>\n",
            "Input ID:  tensor([269,   1,   0]) , Tokens:  ['▁de', '</s>', '<pad>'] , Decoded text:  de</s><pad>\n",
            "Input ID:  tensor([362,   1,   0]) , Tokens:  ['▁el', '</s>', '<pad>'] , Decoded text:  el</s><pad>\n",
            "Input ID:  tensor([289,   1,   0]) , Tokens:  ['▁en', '</s>', '<pad>'] , Decoded text:  en</s><pad>\n",
            "Input ID:  tensor([655,   1,   0]) , Tokens:  ['▁es', '</s>', '<pad>'] , Decoded text:  es</s><pad>\n",
            "Input ID:  tensor([8967,    1,    0]) , Tokens:  ['▁fr', '</s>', '<pad>'] , Decoded text:  fr</s><pad>\n",
            "Input ID:  tensor([1823,    1,    0]) , Tokens:  ['▁hi', '</s>', '<pad>'] , Decoded text:  hi</s><pad>\n",
            "Input ID:  tensor([6079,    1,    0]) , Tokens:  ['▁ru', '</s>', '<pad>'] , Decoded text:  ru</s><pad>\n",
            "Input ID:  tensor([22829,     1,     0]) , Tokens:  ['▁sw', '</s>', '<pad>'] , Decoded text:  sw</s><pad>\n",
            "Input ID:  tensor([394,   1,   0]) , Tokens:  ['▁th', '</s>', '<pad>'] , Decoded text:  th</s><pad>\n",
            "Input ID:  tensor([534,   1,   0]) , Tokens:  ['▁tr', '</s>', '<pad>'] , Decoded text:  tr</s><pad>\n",
            "Input ID:  tensor([259, 715,   1]) , Tokens:  ['▁', 'ur', '</s>'] , Decoded text:  ur</s>\n",
            "Input ID:  tensor([625,   1,   0]) , Tokens:  ['▁vi', '</s>', '<pad>'] , Decoded text:  vi</s><pad>\n",
            "Input ID:  tensor([81991,     1,     0]) , Tokens:  ['▁zh', '</s>', '<pad>'] , Decoded text:  zh</s><pad>\n"
          ]
        }
      ]
    },
    {
      "cell_type": "code",
      "metadata": {
        "id": "98c_dvam00hE"
      },
      "source": [
        "# function to encode a given row from the dataset, containing 'input_text' and 'target_text'\n",
        "# returns input and target token ids\n",
        "\n",
        "def encode_row(row, tokenizer, seq_inp_len, seq_tar_len):\n",
        "  \"\"\"Encode input and tagret texts from single row\"\"\"\n",
        "  \"\"\"Returns input and output token ids\"\"\"\n",
        "  input_text = row['input_text']\n",
        "  target_text = row['target_text']\n",
        "\n",
        "  if input_text is None or target_text is None:\n",
        "    return None\n",
        "\n",
        "  input_token_ids = encode_str(\n",
        "      input_text, tokenizer, seq_inp_len)\n",
        "  \n",
        "  target_token_ids = encode_str(\n",
        "      target_text, tokenizer, seq_tar_len)\n",
        "\n",
        "  return input_token_ids, target_token_ids"
      ],
      "execution_count": 26,
      "outputs": []
    },
    {
      "cell_type": "code",
      "metadata": {
        "id": "nuZlXGFW1Mnj"
      },
      "source": [
        "# function to encode a single batch and return input and output batch token ids\n",
        "\n",
        "def encode_batch(batch, tokenizer):\n",
        "  \"\"\"Encode a single batch\"\"\"\n",
        "  \"\"\"Returns input and output batch token ids\"\"\"\n",
        "  inputs = []\n",
        "  targets = []\n",
        "  for index, row in batch.iterrows():\n",
        "    #gets input and output tocken ids\n",
        "    formatted_data = encode_row(\n",
        "        row, tokenizer, max_inp_seq_len, max_tar_seq_len)\n",
        "#    print(\"i/o tocken ids:\",formatted_data)    \n",
        "    if formatted_data is None:\n",
        "      continue\n",
        "    \n",
        "    input_ids, target_ids = formatted_data\n",
        "    #unsqueeze(input, dim) returns a new tensor with a dimension of size one inserted at the specified position\n",
        "    inputs.append(input_ids.unsqueeze(0))\n",
        "    targets.append(target_ids.unsqueeze(0))\n",
        "#  print('squeezed tocken ids:',inputs)\n",
        "  \n",
        "#Concatenate the given sequence of seq tensors in the given dimension    \n",
        "  batch_input_ids = torch.cat(inputs).cuda()\n",
        "  batch_target_ids = torch.cat(targets).cuda()\n",
        "\n",
        "  return batch_input_ids, batch_target_ids"
      ],
      "execution_count": 27,
      "outputs": []
    },
    {
      "cell_type": "code",
      "metadata": {
        "id": "H1fij94e8UKs"
      },
      "source": [
        "# function to create a generator object to generate batches of data\n",
        "\n",
        "def data_generator(dataset, tokenizer, batch_size=32):\n",
        "  \"\"\"\"generates batches\"\"\"\n",
        "  #shuffle the data\n",
        "  dataset=dataset.sample(frac=1).reset_index(drop=True)\n",
        "\n",
        "  for i in range(0, len(dataset), batch_size):\n",
        "    raw_batch = dataset[i:i+batch_size]\n",
        "    yield encode_batch(raw_batch, tokenizer)"
      ],
      "execution_count": 28,
      "outputs": []
    },
    {
      "cell_type": "code",
      "metadata": {
        "colab": {
          "base_uri": "https://localhost:8080/"
        },
        "id": "z7K42aKP8caS",
        "outputId": "a873a90c-464e-4e44-d0bf-1fd7ddf99519"
      },
      "source": [
        "# Testing data generator\n",
        "\n",
        "data_gen = data_generator(train_df, tokenizer, 8)\n",
        "data_batch = next(data_gen)\n",
        "#print('data_batch:',data_batch)\n",
        "print('Input shape:', data_batch[0].shape)\n",
        "print('Output shape:', data_batch[1].shape)\n"
      ],
      "execution_count": 29,
      "outputs": [
        {
          "output_type": "stream",
          "name": "stdout",
          "text": [
            "Input shape: torch.Size([8, 40])\n",
            "Output shape: torch.Size([8, 3])\n"
          ]
        }
      ]
    },
    {
      "cell_type": "markdown",
      "metadata": {
        "id": "iQhzVdFLA2Oe"
      },
      "source": [
        "**Training**\n"
      ]
    },
    {
      "cell_type": "code",
      "metadata": {
        "id": "rZ167VzPAvOi"
      },
      "source": [
        "# defining the parameters required for fine-tuning\n",
        "\n",
        "n_epochs = 1\n",
        "train_batch_size = 16\n",
        "eval_batch_size = 8\n",
        "lr = 5e-4 \n",
        "\n",
        "n_batches = int(np.ceil(len(train_df) / train_batch_size)) \n",
        "total_steps = n_epochs * n_batches \n",
        "n_warmup_steps = int(total_steps * 0.01) \n",
        "\n",
        "val_freq = np.ceil(10*eval_batch_size*n_batches/len(eval_df))*2\n",
        "while val_freq%5 != 0:\n",
        "  val_freq += 1\n",
        "val_freq = round(val_freq)\n",
        "\n",
        "print_freq = val_freq\n",
        "\n",
        "checkpoint_freq = np.ceil(n_batches/10)\n",
        "while checkpoint_freq%100 != 0:\n",
        "  checkpoint_freq -= 1\n",
        "checkpoint_freq = round(checkpoint_freq)\n"
      ],
      "execution_count": 116,
      "outputs": []
    },
    {
      "cell_type": "code",
      "metadata": {
        "colab": {
          "base_uri": "https://localhost:8080/"
        },
        "id": "jm8piZJ0A9EL",
        "outputId": "295aee45-f733-4530-e7aa-e29f18488272"
      },
      "source": [
        "print('Total Training Steps(Batches) per Epoch: '+str(n_batches))\n",
        "print('Printing & Validation Frequency: '+str(val_freq))\n",
        "print('Checkpoint Saving Frequency: '+str(checkpoint_freq))"
      ],
      "execution_count": 117,
      "outputs": [
        {
          "output_type": "stream",
          "name": "stdout",
          "text": [
            "Total Training Steps(Batches) per Epoch: 5623\n",
            "Printing & Validation Frequency: 35\n",
            "Checkpoint Saving Frequency: 500\n"
          ]
        }
      ]
    },
    {
      "cell_type": "code",
      "metadata": {
        "id": "-rBYk3gpBEGJ"
      },
      "source": [
        "# Optimizer\n",
        "optimizer = AdamW(model.parameters(), lr=lr)\n",
        "# Create a schedule with a learning rate that decreases linearly from the initial lr set in the optimizer to 0, \n",
        "# after a warmup period during which it increases linearly from 0 to the initial lr set in the optimizer.\n",
        "# Warm up steps is a parameter which is used to lower the learning rate \n",
        "# in order to reduce the impact of deviating the model from learning on sudden new data set exposure.\n",
        "scheduler = get_linear_schedule_with_warmup(\n",
        "    optimizer, n_warmup_steps, total_steps)"
      ],
      "execution_count": null,
      "outputs": []
    },
    {
      "cell_type": "code",
      "metadata": {
        "id": "N0j7T7-9BZc5"
      },
      "source": [
        "# list to store the training and validation losses \n",
        "\n",
        "losses = []\n",
        "val_losses = []"
      ],
      "execution_count": null,
      "outputs": []
    },
    {
      "cell_type": "code",
      "metadata": {
        "id": "KGZLk50XCK36"
      },
      "source": [
        "# function to evaluate the model during training at a given frequency\n",
        "\n",
        "def eval_model(model, val_generator_object, max_iters=6):\n",
        "  \"\"\"evaluate the model on small validation data\"\"\"\n",
        "  \n",
        "  eval_losses = []\n",
        "  for i, (input_batch, label_batch) in enumerate(val_generator_object):\n",
        "    if i >= max_iters:\n",
        "      break\n",
        "\n",
        "    model_out = model.forward(\n",
        "        input_ids = input_batch,\n",
        "        labels = label_batch)\n",
        "    eval_losses.append(model_out.loss.item()) \n",
        "\n",
        "  return np.mean(eval_losses)"
      ],
      "execution_count": null,
      "outputs": []
    },
    {
      "cell_type": "code",
      "metadata": {
        "colab": {
          "base_uri": "https://localhost:8080/",
          "height": 1000,
          "referenced_widgets": [
            "f7469609d724429cb9fa4e34e037783f",
            "a92a3bc452324d23ba0027f94c0d4822",
            "43f72c0b061447b0a064f3fef2ff9585",
            "faf666066bf54bf8aefa1dff2ba37987",
            "b78e6a583c614cc3a6aa697cf0e8fcf0",
            "68a092e358b1455c9325256295cd030e",
            "8f06fcf984014f48b09f80318e2cf46d",
            "6932249f4b504465b8f15ab9df9b247d",
            "6d86db32c5854a23a7d4ca4dcc2f5573",
            "9ad88fe96c4d4a74820fb2f1dab08336",
            "7eae77575b714032b6348053f752fc66"
          ]
        },
        "id": "yD6vNtWSCOCJ",
        "outputId": "8ff030bb-46fd-4e85-d7e0-ae20d451926a"
      },
      "source": [
        "# fine-tuning the model and save the checkpoints\n",
        "\n",
        "for epoch_idx in range(n_epochs):\n",
        "  # generate batch data\n",
        "  train_generator = data_generator(train_df, tokenizer, train_batch_size)\n",
        "  val_generator = data_generator(eval_df, tokenizer, eval_batch_size)\n",
        "                \n",
        "  for batch_idx, (input_batch, label_batch) in tqdm_notebook_(enumerate(train_generator), total=n_batches):\n",
        "    #zeroes all the gradients before the calculation\n",
        "    optimizer.zero_grad()\n",
        "\n",
        "    # Forward pass\n",
        "    model_out = model.forward(input_ids = input_batch, labels = label_batch)\n",
        "\n",
        "    # Calculate loss\n",
        "    loss = model_out.loss\n",
        "    # loss.item() gets the scalar value held in the loss.  item() turns a Tensor into a Python number\n",
        "    losses.append(loss.item())\n",
        "    #backpropagation - computing the gradient of the loss function with respect to each weight\n",
        "    loss.backward()\n",
        "    # updating weights to minimize loss\n",
        "    optimizer.step()\n",
        "    #You call scheduler.step() every batch, right after optimizer.step(), to update the learning rate.\n",
        "    scheduler.step()\n",
        "\n",
        "    # Print training update info\n",
        "    # At an interval of print_freq or val_freq\n",
        "    if (batch_idx + 1) % print_freq == 0:\n",
        "      #average loss for the last 'print_freq' batches\n",
        "      avg_loss = np.mean(losses[-print_freq:])\n",
        "      val_loss = eval_model(model, val_generator)\n",
        "      print('Epoch: {} | Step: {} | Avg. train loss: {:.3f} | Avg. val loss: {:.3f} | lr: {}'.format(\n",
        "          epoch_idx+1, batch_idx+1, avg_loss, val_loss, scheduler.get_last_lr()[0]))\n",
        "      val_losses.append(val_loss)\n",
        "      \n",
        "\n",
        "    # save the model for every 'checkpoint_freq' steps\n",
        "    if (batch_idx + 1) % checkpoint_freq == 0:      \n",
        "      torch.save(model.state_dict(), os.path.join(model_path+ 'Step-{}_checkpoint_lang_pred.pt'.format(batch_idx + 1)))\n",
        "\n",
        "torch.save(model.state_dict(), os.path.join(model_path+ 'Step-{}_checkpoint_lang_pred.pt'.format(batch_idx + 1)))"
      ],
      "execution_count": null,
      "outputs": [
        {
          "output_type": "display_data",
          "data": {
            "application/vnd.jupyter.widget-view+json": {
              "model_id": "f7469609d724429cb9fa4e34e037783f",
              "version_minor": 0,
              "version_major": 2
            },
            "text/plain": [
              "  0%|          | 0/5623 [00:00<?, ?it/s]"
            ]
          },
          "metadata": {}
        },
        {
          "output_type": "stream",
          "name": "stdout",
          "text": [
            "Epoch: 1 | Step: 35 | Avg. train loss: 1.840 | Avg. val loss: 1.041 | lr: 0.0003125\n",
            "Epoch: 1 | Step: 70 | Avg. train loss: 0.326 | Avg. val loss: 0.034 | lr: 0.0004987425902640561\n",
            "Epoch: 1 | Step: 105 | Avg. train loss: 0.202 | Avg. val loss: 0.117 | lr: 0.0004955990659241962\n",
            "Epoch: 1 | Step: 140 | Avg. train loss: 0.077 | Avg. val loss: 0.167 | lr: 0.0004924555415843362\n",
            "Epoch: 1 | Step: 175 | Avg. train loss: 0.027 | Avg. val loss: 0.002 | lr: 0.0004893120172444763\n",
            "Epoch: 1 | Step: 210 | Avg. train loss: 0.096 | Avg. val loss: 0.113 | lr: 0.0004861684929046165\n",
            "Epoch: 1 | Step: 245 | Avg. train loss: 0.070 | Avg. val loss: 0.031 | lr: 0.0004830249685647566\n",
            "Epoch: 1 | Step: 280 | Avg. train loss: 0.037 | Avg. val loss: 0.016 | lr: 0.0004798814442248967\n",
            "Epoch: 1 | Step: 315 | Avg. train loss: 0.022 | Avg. val loss: 0.030 | lr: 0.0004767379198850368\n",
            "Epoch: 1 | Step: 350 | Avg. train loss: 0.015 | Avg. val loss: 0.007 | lr: 0.000473594395545177\n",
            "Epoch: 1 | Step: 385 | Avg. train loss: 0.016 | Avg. val loss: 0.004 | lr: 0.00047045087120531706\n",
            "Epoch: 1 | Step: 420 | Avg. train loss: 0.006 | Avg. val loss: 0.003 | lr: 0.0004673073468654572\n",
            "Epoch: 1 | Step: 455 | Avg. train loss: 0.013 | Avg. val loss: 0.029 | lr: 0.0004641638225255973\n",
            "Epoch: 1 | Step: 490 | Avg. train loss: 0.010 | Avg. val loss: 0.001 | lr: 0.00046102029818573736\n",
            "Epoch: 1 | Step: 525 | Avg. train loss: 0.011 | Avg. val loss: 0.082 | lr: 0.0004578767738458775\n",
            "Epoch: 1 | Step: 560 | Avg. train loss: 0.010 | Avg. val loss: 0.002 | lr: 0.00045473324950601765\n",
            "Epoch: 1 | Step: 595 | Avg. train loss: 0.009 | Avg. val loss: 0.002 | lr: 0.0004515897251661577\n",
            "Epoch: 1 | Step: 630 | Avg. train loss: 0.011 | Avg. val loss: 0.004 | lr: 0.00044844620082629783\n",
            "Epoch: 1 | Step: 665 | Avg. train loss: 0.021 | Avg. val loss: 0.004 | lr: 0.00044530267648643795\n",
            "Epoch: 1 | Step: 700 | Avg. train loss: 0.006 | Avg. val loss: 0.006 | lr: 0.000442159152146578\n",
            "Epoch: 1 | Step: 735 | Avg. train loss: 0.007 | Avg. val loss: 0.064 | lr: 0.0004390156278067182\n",
            "Epoch: 1 | Step: 770 | Avg. train loss: 0.005 | Avg. val loss: 0.004 | lr: 0.0004358721034668583\n",
            "Epoch: 1 | Step: 805 | Avg. train loss: 0.005 | Avg. val loss: 0.017 | lr: 0.00043272857912699837\n",
            "Epoch: 1 | Step: 840 | Avg. train loss: 0.004 | Avg. val loss: 0.001 | lr: 0.0004295850547871385\n",
            "Epoch: 1 | Step: 875 | Avg. train loss: 0.202 | Avg. val loss: 1.584 | lr: 0.0004264415304472786\n",
            "Epoch: 1 | Step: 910 | Avg. train loss: 0.488 | Avg. val loss: 0.210 | lr: 0.00042329800610741873\n",
            "Epoch: 1 | Step: 945 | Avg. train loss: 0.094 | Avg. val loss: 0.010 | lr: 0.00042015448176755885\n",
            "Epoch: 1 | Step: 980 | Avg. train loss: 0.080 | Avg. val loss: 0.160 | lr: 0.00041701095742769896\n",
            "Epoch: 1 | Step: 1015 | Avg. train loss: 0.044 | Avg. val loss: 0.034 | lr: 0.0004138674330878391\n",
            "Epoch: 1 | Step: 1050 | Avg. train loss: 0.079 | Avg. val loss: 0.035 | lr: 0.00041072390874797915\n",
            "Epoch: 1 | Step: 1085 | Avg. train loss: 0.102 | Avg. val loss: 0.054 | lr: 0.00040758038440811927\n",
            "Epoch: 1 | Step: 1120 | Avg. train loss: 0.053 | Avg. val loss: 0.047 | lr: 0.00040443686006825944\n",
            "Epoch: 1 | Step: 1155 | Avg. train loss: 0.065 | Avg. val loss: 0.003 | lr: 0.0004012933357283995\n",
            "Epoch: 1 | Step: 1190 | Avg. train loss: 0.033 | Avg. val loss: 0.005 | lr: 0.0003981498113885396\n",
            "Epoch: 1 | Step: 1225 | Avg. train loss: 0.025 | Avg. val loss: 0.059 | lr: 0.00039500628704867974\n",
            "Epoch: 1 | Step: 1260 | Avg. train loss: 0.024 | Avg. val loss: 0.002 | lr: 0.0003918627627088198\n",
            "Epoch: 1 | Step: 1295 | Avg. train loss: 0.018 | Avg. val loss: 0.008 | lr: 0.0003887192383689599\n",
            "Epoch: 1 | Step: 1330 | Avg. train loss: 0.014 | Avg. val loss: 0.023 | lr: 0.0003855757140291001\n",
            "Epoch: 1 | Step: 1365 | Avg. train loss: 0.012 | Avg. val loss: 0.002 | lr: 0.00038243218968924016\n",
            "Epoch: 1 | Step: 1400 | Avg. train loss: 0.018 | Avg. val loss: 0.002 | lr: 0.0003792886653493803\n",
            "Epoch: 1 | Step: 1435 | Avg. train loss: 0.014 | Avg. val loss: 0.001 | lr: 0.0003761451410095204\n",
            "Epoch: 1 | Step: 1470 | Avg. train loss: 0.012 | Avg. val loss: 0.002 | lr: 0.00037300161666966046\n",
            "Epoch: 1 | Step: 1505 | Avg. train loss: 0.023 | Avg. val loss: 0.002 | lr: 0.00036985809232980063\n",
            "Epoch: 1 | Step: 1540 | Avg. train loss: 0.004 | Avg. val loss: 0.002 | lr: 0.00036671456798994075\n",
            "Epoch: 1 | Step: 1575 | Avg. train loss: 0.024 | Avg. val loss: 0.014 | lr: 0.00036357104365008087\n",
            "Epoch: 1 | Step: 1610 | Avg. train loss: 0.016 | Avg. val loss: 0.003 | lr: 0.00036042751931022093\n",
            "Epoch: 1 | Step: 1645 | Avg. train loss: 0.012 | Avg. val loss: 0.002 | lr: 0.00035728399497036105\n",
            "Epoch: 1 | Step: 1680 | Avg. train loss: 0.012 | Avg. val loss: 0.001 | lr: 0.0003541404706305012\n",
            "Epoch: 1 | Step: 1715 | Avg. train loss: 0.014 | Avg. val loss: 0.020 | lr: 0.0003509969462906413\n",
            "Epoch: 1 | Step: 1750 | Avg. train loss: 0.007 | Avg. val loss: 0.005 | lr: 0.0003478534219507814\n",
            "Epoch: 1 | Step: 1785 | Avg. train loss: 0.008 | Avg. val loss: 0.004 | lr: 0.0003447098976109215\n",
            "Epoch: 1 | Step: 1820 | Avg. train loss: 0.004 | Avg. val loss: 0.001 | lr: 0.0003415663732710616\n",
            "Epoch: 1 | Step: 1855 | Avg. train loss: 0.015 | Avg. val loss: 0.005 | lr: 0.0003384228489312017\n",
            "Epoch: 1 | Step: 1890 | Avg. train loss: 0.005 | Avg. val loss: 0.023 | lr: 0.0003352793245913419\n",
            "Epoch: 1 | Step: 1925 | Avg. train loss: 0.005 | Avg. val loss: 0.001 | lr: 0.00033213580025148195\n",
            "Epoch: 1 | Step: 1960 | Avg. train loss: 0.015 | Avg. val loss: 0.000 | lr: 0.00032899227591162206\n",
            "Epoch: 1 | Step: 1995 | Avg. train loss: 0.002 | Avg. val loss: 0.000 | lr: 0.0003258487515717622\n",
            "Epoch: 1 | Step: 2030 | Avg. train loss: 0.017 | Avg. val loss: 0.060 | lr: 0.00032270522723190225\n",
            "Epoch: 1 | Step: 2065 | Avg. train loss: 0.026 | Avg. val loss: 0.006 | lr: 0.0003195617028920424\n",
            "Epoch: 1 | Step: 2100 | Avg. train loss: 0.011 | Avg. val loss: 0.004 | lr: 0.00031641817855218254\n",
            "Epoch: 1 | Step: 2135 | Avg. train loss: 0.007 | Avg. val loss: 0.001 | lr: 0.0003132746542123226\n",
            "Epoch: 1 | Step: 2170 | Avg. train loss: 0.002 | Avg. val loss: 0.000 | lr: 0.0003101311298724627\n",
            "Epoch: 1 | Step: 2205 | Avg. train loss: 0.004 | Avg. val loss: 0.034 | lr: 0.00030698760553260284\n",
            "Epoch: 1 | Step: 2240 | Avg. train loss: 0.006 | Avg. val loss: 0.000 | lr: 0.00030384408119274296\n",
            "Epoch: 1 | Step: 2275 | Avg. train loss: 0.006 | Avg. val loss: 0.001 | lr: 0.0003007005568528831\n",
            "Epoch: 1 | Step: 2310 | Avg. train loss: 0.007 | Avg. val loss: 0.008 | lr: 0.0002975570325130232\n",
            "Epoch: 1 | Step: 2345 | Avg. train loss: 0.012 | Avg. val loss: 0.000 | lr: 0.0002944135081731633\n",
            "Epoch: 1 | Step: 2380 | Avg. train loss: 0.003 | Avg. val loss: 0.036 | lr: 0.0002912699838333034\n",
            "Epoch: 1 | Step: 2415 | Avg. train loss: 0.012 | Avg. val loss: 0.000 | lr: 0.0002881264594934435\n",
            "Epoch: 1 | Step: 2450 | Avg. train loss: 0.002 | Avg. val loss: 0.000 | lr: 0.00028498293515358367\n",
            "Epoch: 1 | Step: 2485 | Avg. train loss: 0.003 | Avg. val loss: 0.001 | lr: 0.00028183941081372373\n",
            "Epoch: 1 | Step: 2520 | Avg. train loss: 0.004 | Avg. val loss: 0.000 | lr: 0.00027869588647386385\n",
            "Epoch: 1 | Step: 2555 | Avg. train loss: 0.008 | Avg. val loss: 0.001 | lr: 0.00027555236213400397\n",
            "Epoch: 1 | Step: 2590 | Avg. train loss: 0.005 | Avg. val loss: 0.021 | lr: 0.00027240883779414403\n",
            "Epoch: 1 | Step: 2625 | Avg. train loss: 0.007 | Avg. val loss: 0.000 | lr: 0.00026926531345428415\n",
            "Epoch: 1 | Step: 2660 | Avg. train loss: 0.002 | Avg. val loss: 0.001 | lr: 0.0002661217891144243\n",
            "Epoch: 1 | Step: 2695 | Avg. train loss: 0.033 | Avg. val loss: 0.002 | lr: 0.0002629782647745644\n",
            "Epoch: 1 | Step: 2730 | Avg. train loss: 0.023 | Avg. val loss: 0.023 | lr: 0.0002598347404347045\n",
            "Epoch: 1 | Step: 2765 | Avg. train loss: 0.015 | Avg. val loss: 0.022 | lr: 0.00025669121609484463\n",
            "Epoch: 1 | Step: 2800 | Avg. train loss: 0.004 | Avg. val loss: 0.000 | lr: 0.0002535476917549847\n",
            "Epoch: 1 | Step: 2835 | Avg. train loss: 0.004 | Avg. val loss: 0.001 | lr: 0.00025040416741512486\n",
            "Epoch: 1 | Step: 2870 | Avg. train loss: 0.006 | Avg. val loss: 0.000 | lr: 0.000247260643075265\n",
            "Epoch: 1 | Step: 2905 | Avg. train loss: 0.004 | Avg. val loss: 0.000 | lr: 0.00024411711873540507\n",
            "Epoch: 1 | Step: 2940 | Avg. train loss: 0.008 | Avg. val loss: 0.005 | lr: 0.00024097359439554517\n",
            "Epoch: 1 | Step: 2975 | Avg. train loss: 0.005 | Avg. val loss: 0.003 | lr: 0.0002378300700556853\n",
            "Epoch: 1 | Step: 3010 | Avg. train loss: 0.007 | Avg. val loss: 0.002 | lr: 0.0002346865457158254\n",
            "Epoch: 1 | Step: 3045 | Avg. train loss: 0.006 | Avg. val loss: 0.003 | lr: 0.00023154302137596552\n",
            "Epoch: 1 | Step: 3080 | Avg. train loss: 0.008 | Avg. val loss: 0.005 | lr: 0.00022839949703610564\n",
            "Epoch: 1 | Step: 3115 | Avg. train loss: 0.006 | Avg. val loss: 0.000 | lr: 0.00022525597269624573\n",
            "Epoch: 1 | Step: 3150 | Avg. train loss: 0.015 | Avg. val loss: 0.003 | lr: 0.00022211244835638585\n",
            "Epoch: 1 | Step: 3185 | Avg. train loss: 0.004 | Avg. val loss: 0.001 | lr: 0.00021896892401652597\n",
            "Epoch: 1 | Step: 3220 | Avg. train loss: 0.012 | Avg. val loss: 0.001 | lr: 0.00021582539967666606\n",
            "Epoch: 1 | Step: 3255 | Avg. train loss: 0.004 | Avg. val loss: 0.023 | lr: 0.00021268187533680618\n",
            "Epoch: 1 | Step: 3290 | Avg. train loss: 0.008 | Avg. val loss: 0.092 | lr: 0.0002095383509969463\n",
            "Epoch: 1 | Step: 3325 | Avg. train loss: 0.011 | Avg. val loss: 0.001 | lr: 0.0002063948266570864\n",
            "Epoch: 1 | Step: 3360 | Avg. train loss: 0.004 | Avg. val loss: 0.000 | lr: 0.00020325130231722653\n",
            "Epoch: 1 | Step: 3395 | Avg. train loss: 0.002 | Avg. val loss: 0.000 | lr: 0.00020010777797736662\n",
            "Epoch: 1 | Step: 3430 | Avg. train loss: 0.005 | Avg. val loss: 0.003 | lr: 0.00019696425363750674\n",
            "Epoch: 1 | Step: 3465 | Avg. train loss: 0.003 | Avg. val loss: 0.008 | lr: 0.00019382072929764686\n",
            "Epoch: 1 | Step: 3500 | Avg. train loss: 0.005 | Avg. val loss: 0.000 | lr: 0.00019067720495778695\n",
            "Epoch: 1 | Step: 3535 | Avg. train loss: 0.007 | Avg. val loss: 0.004 | lr: 0.00018753368061792707\n",
            "Epoch: 1 | Step: 3570 | Avg. train loss: 0.003 | Avg. val loss: 0.000 | lr: 0.0001843901562780672\n",
            "Epoch: 1 | Step: 3605 | Avg. train loss: 0.001 | Avg. val loss: 0.000 | lr: 0.00018124663193820728\n",
            "Epoch: 1 | Step: 3640 | Avg. train loss: 0.008 | Avg. val loss: 0.010 | lr: 0.00017810310759834743\n",
            "Epoch: 1 | Step: 3675 | Avg. train loss: 0.008 | Avg. val loss: 0.000 | lr: 0.00017495958325848752\n",
            "Epoch: 1 | Step: 3710 | Avg. train loss: 0.003 | Avg. val loss: 0.000 | lr: 0.00017181605891862764\n",
            "Epoch: 1 | Step: 3745 | Avg. train loss: 0.010 | Avg. val loss: 0.001 | lr: 0.00016867253457876775\n",
            "Epoch: 1 | Step: 3780 | Avg. train loss: 0.004 | Avg. val loss: 0.001 | lr: 0.00016552901023890785\n",
            "Epoch: 1 | Step: 3815 | Avg. train loss: 0.002 | Avg. val loss: 0.030 | lr: 0.00016238548589904796\n",
            "Epoch: 1 | Step: 3850 | Avg. train loss: 0.003 | Avg. val loss: 0.000 | lr: 0.00015924196155918808\n",
            "Epoch: 1 | Step: 3885 | Avg. train loss: 0.005 | Avg. val loss: 0.004 | lr: 0.00015609843721932817\n",
            "Epoch: 1 | Step: 3920 | Avg. train loss: 0.004 | Avg. val loss: 0.000 | lr: 0.0001529549128794683\n",
            "Epoch: 1 | Step: 3955 | Avg. train loss: 0.002 | Avg. val loss: 0.014 | lr: 0.0001498113885396084\n",
            "Epoch: 1 | Step: 3990 | Avg. train loss: 0.002 | Avg. val loss: 0.001 | lr: 0.0001466678641997485\n",
            "Epoch: 1 | Step: 4025 | Avg. train loss: 0.002 | Avg. val loss: 0.000 | lr: 0.00014352433985988865\n",
            "Epoch: 1 | Step: 4060 | Avg. train loss: 0.008 | Avg. val loss: 0.002 | lr: 0.00014038081552002874\n",
            "Epoch: 1 | Step: 4095 | Avg. train loss: 0.011 | Avg. val loss: 0.002 | lr: 0.00013723729118016886\n",
            "Epoch: 1 | Step: 4130 | Avg. train loss: 0.001 | Avg. val loss: 0.000 | lr: 0.00013409376684030898\n",
            "Epoch: 1 | Step: 4165 | Avg. train loss: 0.010 | Avg. val loss: 0.002 | lr: 0.00013095024250044907\n",
            "Epoch: 1 | Step: 4200 | Avg. train loss: 0.006 | Avg. val loss: 0.000 | lr: 0.00012780671816058919\n",
            "Epoch: 1 | Step: 4235 | Avg. train loss: 0.001 | Avg. val loss: 0.085 | lr: 0.0001246631938207293\n",
            "Epoch: 1 | Step: 4270 | Avg. train loss: 0.004 | Avg. val loss: 0.001 | lr: 0.00012151966948086941\n",
            "Epoch: 1 | Step: 4305 | Avg. train loss: 0.020 | Avg. val loss: 0.001 | lr: 0.00011837614514100953\n",
            "Epoch: 1 | Step: 4340 | Avg. train loss: 0.003 | Avg. val loss: 0.000 | lr: 0.00011523262080114963\n",
            "Epoch: 1 | Step: 4375 | Avg. train loss: 0.010 | Avg. val loss: 0.001 | lr: 0.00011208909646128974\n",
            "Epoch: 1 | Step: 4410 | Avg. train loss: 0.007 | Avg. val loss: 0.001 | lr: 0.00010894557212142986\n",
            "Epoch: 1 | Step: 4445 | Avg. train loss: 0.007 | Avg. val loss: 0.001 | lr: 0.00010580204778156998\n",
            "Epoch: 1 | Step: 4480 | Avg. train loss: 0.002 | Avg. val loss: 0.000 | lr: 0.00010265852344171008\n",
            "Epoch: 1 | Step: 4515 | Avg. train loss: 0.013 | Avg. val loss: 0.001 | lr: 9.951499910185018e-05\n",
            "Epoch: 1 | Step: 4550 | Avg. train loss: 0.003 | Avg. val loss: 0.014 | lr: 9.63714747619903e-05\n",
            "Epoch: 1 | Step: 4585 | Avg. train loss: 0.004 | Avg. val loss: 0.004 | lr: 9.322795042213042e-05\n",
            "Epoch: 1 | Step: 4620 | Avg. train loss: 0.001 | Avg. val loss: 0.000 | lr: 9.008442608227053e-05\n",
            "Epoch: 1 | Step: 4655 | Avg. train loss: 0.001 | Avg. val loss: 0.000 | lr: 8.694090174241063e-05\n",
            "Epoch: 1 | Step: 4690 | Avg. train loss: 0.002 | Avg. val loss: 0.000 | lr: 8.379737740255075e-05\n",
            "Epoch: 1 | Step: 4725 | Avg. train loss: 0.013 | Avg. val loss: 0.001 | lr: 8.065385306269086e-05\n",
            "Epoch: 1 | Step: 4760 | Avg. train loss: 0.008 | Avg. val loss: 0.001 | lr: 7.751032872283096e-05\n",
            "Epoch: 1 | Step: 4795 | Avg. train loss: 0.001 | Avg. val loss: 0.000 | lr: 7.436680438297108e-05\n",
            "Epoch: 1 | Step: 4830 | Avg. train loss: 0.008 | Avg. val loss: 0.000 | lr: 7.12232800431112e-05\n",
            "Epoch: 1 | Step: 4865 | Avg. train loss: 0.003 | Avg. val loss: 0.061 | lr: 6.80797557032513e-05\n",
            "Epoch: 1 | Step: 4900 | Avg. train loss: 0.003 | Avg. val loss: 0.000 | lr: 6.49362313633914e-05\n",
            "Epoch: 1 | Step: 4935 | Avg. train loss: 0.002 | Avg. val loss: 0.005 | lr: 6.179270702353153e-05\n",
            "Epoch: 1 | Step: 4970 | Avg. train loss: 0.007 | Avg. val loss: 0.004 | lr: 5.864918268367164e-05\n",
            "Epoch: 1 | Step: 5005 | Avg. train loss: 0.009 | Avg. val loss: 0.001 | lr: 5.550565834381175e-05\n",
            "Epoch: 1 | Step: 5040 | Avg. train loss: 0.001 | Avg. val loss: 0.010 | lr: 5.236213400395186e-05\n",
            "Epoch: 1 | Step: 5075 | Avg. train loss: 0.006 | Avg. val loss: 0.002 | lr: 4.921860966409197e-05\n",
            "Epoch: 1 | Step: 5110 | Avg. train loss: 0.005 | Avg. val loss: 0.001 | lr: 4.6075085324232084e-05\n",
            "Epoch: 1 | Step: 5145 | Avg. train loss: 0.003 | Avg. val loss: 0.000 | lr: 4.2931560984372195e-05\n",
            "Epoch: 1 | Step: 5180 | Avg. train loss: 0.008 | Avg. val loss: 0.004 | lr: 3.978803664451231e-05\n",
            "Epoch: 1 | Step: 5215 | Avg. train loss: 0.005 | Avg. val loss: 0.021 | lr: 3.664451230465242e-05\n",
            "Epoch: 1 | Step: 5250 | Avg. train loss: 0.007 | Avg. val loss: 0.000 | lr: 3.350098796479253e-05\n",
            "Epoch: 1 | Step: 5285 | Avg. train loss: 0.004 | Avg. val loss: 0.001 | lr: 3.035746362493264e-05\n",
            "Epoch: 1 | Step: 5320 | Avg. train loss: 0.014 | Avg. val loss: 0.000 | lr: 2.721393928507275e-05\n",
            "Epoch: 1 | Step: 5355 | Avg. train loss: 0.002 | Avg. val loss: 0.000 | lr: 2.4070414945212862e-05\n",
            "Epoch: 1 | Step: 5390 | Avg. train loss: 0.004 | Avg. val loss: 0.000 | lr: 2.0926890605352974e-05\n",
            "Epoch: 1 | Step: 5425 | Avg. train loss: 0.007 | Avg. val loss: 0.001 | lr: 1.7783366265493086e-05\n",
            "Epoch: 1 | Step: 5460 | Avg. train loss: 0.000 | Avg. val loss: 0.001 | lr: 1.4639841925633196e-05\n",
            "Epoch: 1 | Step: 5495 | Avg. train loss: 0.001 | Avg. val loss: 0.000 | lr: 1.1496317585773307e-05\n",
            "Epoch: 1 | Step: 5530 | Avg. train loss: 0.004 | Avg. val loss: 0.000 | lr: 8.352793245913419e-06\n",
            "Epoch: 1 | Step: 5565 | Avg. train loss: 0.004 | Avg. val loss: 0.000 | lr: 5.20926890605353e-06\n",
            "Epoch: 1 | Step: 5600 | Avg. train loss: 0.004 | Avg. val loss: 0.000 | lr: 2.065744566193641e-06\n"
          ]
        }
      ]
    },
    {
      "cell_type": "code",
      "metadata": {
        "id": "NCzXIOHVGPP6"
      },
      "source": [
        "# save the training and validation loss values\n",
        "\n",
        "if not os.path.exists('/content/gdrive/My Drive/Loss'):\n",
        "  os.mkdir('/content/gdrive/My Drive/Loss')\n",
        "\n",
        "pd.DataFrame(losses).to_csv(\"/content/gdrive/My Drive/Loss/train_loss.csv\")\n",
        "pd.DataFrame(val_losses).to_csv(\"/content/gdrive/My Drive/Loss/val_loss.csv\")"
      ],
      "execution_count": null,
      "outputs": []
    },
    {
      "cell_type": "code",
      "metadata": {
        "id": "8SCq_QvOfpO7"
      },
      "source": [
        "# Load the loss values\n",
        "\n",
        "train_loss_= pd.read_csv('/content/gdrive/My Drive/Loss/train_loss.csv', index_col=0)\n",
        "val_loss_= pd.read_csv('/content/gdrive/My Drive/Loss/val_loss.csv', index_col=0)\n"
      ],
      "execution_count": 114,
      "outputs": []
    },
    {
      "cell_type": "code",
      "metadata": {
        "colab": {
          "base_uri": "https://localhost:8080/",
          "height": 384
        },
        "id": "wFHZzOxc6VmG",
        "outputId": "8adf3e5b-21c4-45f1-f3e0-4721e2ba46a7"
      },
      "source": [
        "# visualizing the training and validation losses\n",
        "\n",
        "# Actual training loss with low opacity\n",
        "fig = plt.figure(figsize=(10, 5), dpi=80)\n",
        "plt.plot(train_loss_, alpha=0.15, color='orange')\n",
        "\n",
        "# smoothening the training loss\n",
        "# window size is chosen depending upon the amount of smoothening required\n",
        "window = 11\n",
        "order = 1\n",
        "y_ = savgol_filter(train_loss_['0'], window, order)\n",
        "plt.plot(y_, color='orange', label='Training loss (smoothened)')\n",
        "\n",
        "# Validation loss\n",
        "val_loss_df = copy.deepcopy(val_loss_) \n",
        "val_loss_df.index = (val_loss_.index+1)*val_freq\n",
        "plt.plot(val_loss_df, label='Validation loss')\n",
        "\n",
        "plt.legend(loc=\"upper right\")\n",
        "plt.xlabel('Steps')\n",
        "\n",
        "# save the plot if needed\n",
        "# fig.savefig('/content/gdrive/MyDrive/Loss/Loss_Plot.png', dpi=fig.dpi)"
      ],
      "execution_count": 115,
      "outputs": [
        {
          "output_type": "execute_result",
          "data": {
            "text/plain": [
              "Text(0.5, 0, 'Steps')"
            ]
          },
          "metadata": {},
          "execution_count": 115
        },
        {
          "output_type": "display_data",
          "data": {
            "image/png": "[encoded data removed]",
            "text/plain": [
              "<Figure size 800x400 with 1 Axes>"
            ]
          },
          "metadata": {
            "needs_background": "light"
          }
        }
      ]
    },
    {
      "cell_type": "markdown",
      "metadata": {
        "id": "GAEfzPmftaUl"
      },
      "source": [
        "**Model Testing**"
      ]
    },
    {
      "cell_type": "code",
      "metadata": {
        "id": "z7YwXhXcH411"
      },
      "source": [
        "# function to test the model on 'max_iter' examples \n",
        "\n",
        "def test_model(test_df, tokenizer, wrong_prediction, max_iter):\n",
        "\n",
        "  max_test_iters = max_iter\n",
        "  correct_predictions = 0\n",
        "\n",
        "  for _ in range(max_test_iters):\n",
        "    num = random.randint(0,len(test_df['input_text'])-1)\n",
        "    test = test_df.iloc[num]\n",
        "\n",
        "    input_ids = encode_str(text = test['input_text'], tokenizer = tokenizer, seq_len = 40)\n",
        "    input_ids = input_ids.unsqueeze(0).cuda()\n",
        "\n",
        "    #print('Truncated input text:', tokenizer.convert_tokens_to_string(\n",
        "    #  tokenizer.convert_ids_to_tokens(input_ids[0])))\n",
        "\n",
        "    output_tokens = model.generate(input_ids, num_beams=10, num_return_sequences=1, length_penalty = 1, no_repeat_ngram_size=2)\n",
        "    # print(output_tokens)\n",
        "    for token_set in output_tokens:\n",
        "      prediction = tokenizer.decode(token_set,skip_special_tokens=True)\n",
        "      if prediction == test['target_text']:\n",
        "        correct_predictions += 1\n",
        "      else:\n",
        "        wrong_prediction.append([test['input_text'], test['target_text'], prediction])\n",
        "\n",
        "  return correct_predictions/max_test_iters, wrong_prediction"
      ],
      "execution_count": null,
      "outputs": []
    },
    {
      "cell_type": "code",
      "metadata": {
        "id": "u4xBWZ_6uYQs",
        "colab": {
          "base_uri": "https://localhost:8080/",
          "height": 100,
          "referenced_widgets": [
            "449351d2e03e4f5185008dfd60fee705",
            "52e3798639084a4ca79a569e5157caa6",
            "a7d0383b75a94097bda54d9acf0b70c8",
            "bb99b17a5ba744de8de5226df1c28b9d",
            "efac25f1787948bbb7f01bd771b9af36",
            "74cd22f6ba5d4fa7ab7c3609fdcc6525",
            "92227aadb4e549cd88347fb885a3a165",
            "2b295af96fd741d7bd2449e6b126b5e6",
            "c84a88e843cb4f7cb35d5aab4a37b256",
            "901fac301e4b47068b9191b3c48f19f2",
            "aafe66afd8874488a770c14eda4c148a"
          ]
        },
        "outputId": "160bba0c-e17c-4af9-a9ba-a0e6f499a3ff"
      },
      "source": [
        "# test the model on multiple batches to find average test accuracy.\n",
        "# wrong predictions are saved to 'wrong_predictions.csv' file for further analysis.\n",
        "\n",
        "Test_acc_values = []\n",
        "wrong_pred = []\n",
        "test_n_batches = 200\n",
        "print('Model testing on test dataset: \\n')\n",
        "for _ in tqdm_notebook_(range(test_n_batches)):\n",
        "  acc, wrong_pred = test_model(test_df, tokenizer, wrong_pred, max_iter=50)\n",
        "  Test_acc_values.append(acc)\n",
        "\n",
        "\n",
        "print('Avg. Test Accuracy: {:.4f}'.format(np.mean(Test_acc_values))) \n",
        "wrong_pred_df = pd.DataFrame (wrong_pred, columns = ['Input_text', 'True_target', 'Predicted'])\n",
        "wrong_pred_df.to_csv(\"/content/gdrive/My Drive/wrong_predictions.csv\")\n"
      ],
      "execution_count": null,
      "outputs": [
        {
          "output_type": "stream",
          "name": "stdout",
          "text": [
            "Model testing on test dataset: \n",
            "\n"
          ]
        },
        {
          "output_type": "display_data",
          "data": {
            "application/vnd.jupyter.widget-view+json": {
              "model_id": "449351d2e03e4f5185008dfd60fee705",
              "version_minor": 0,
              "version_major": 2
            },
            "text/plain": [
              "  0%|          | 0/200 [00:00<?, ?it/s]"
            ]
          },
          "metadata": {}
        },
        {
          "output_type": "stream",
          "name": "stdout",
          "text": [
            "Avg. Test Accuracy: 0.9949\n"
          ]
        }
      ]
    },
    {
      "cell_type": "code",
      "metadata": {
        "colab": {
          "base_uri": "https://localhost:8080/"
        },
        "id": "yuCnGbxg-dX4",
        "outputId": "c68d36b0-d4a0-4cb2-9f81-9e2727b723f1"
      },
      "source": [
        "# After fine-tuning, if we need to load the saved model checkpoint.\n",
        "# If using different checkpoint saving frequency during training, then make sure to change the corresponding filename.\n",
        "\n",
        "# model_name=model_path+'Step-5623_checkpoint_lang_pred.pt'\n",
        "# model.load_state_dict(torch.load(model_name))"
      ],
      "execution_count": null,
      "outputs": [
        {
          "output_type": "execute_result",
          "data": {
            "text/plain": [
              "<All keys matched successfully>"
            ]
          },
          "metadata": {},
          "execution_count": 44
        }
      ]
    },
    {
      "cell_type": "code",
      "metadata": {
        "id": "sqg3Jz3R-j1V"
      },
      "source": [
        ""
      ],
      "execution_count": 115,
      "outputs": []
    }
  ]
}